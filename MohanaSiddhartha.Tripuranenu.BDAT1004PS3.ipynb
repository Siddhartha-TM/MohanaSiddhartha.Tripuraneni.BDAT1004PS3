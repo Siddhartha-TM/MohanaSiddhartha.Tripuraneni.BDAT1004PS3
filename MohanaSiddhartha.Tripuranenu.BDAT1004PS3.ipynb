{
 "cells": [
  {
   "cell_type": "markdown",
   "metadata": {},
   "source": [
    "# Question 01"
   ]
  },
  {
   "cell_type": "markdown",
   "metadata": {},
   "source": [
    "Step 1. Import the necessary libraries"
   ]
  },
  {
   "cell_type": "code",
   "execution_count": 1,
   "metadata": {},
   "outputs": [],
   "source": [
    "import pandas as pd"
   ]
  },
  {
   "cell_type": "markdown",
   "metadata": {},
   "source": [
    "Step 2. Import the dataset from this address."
   ]
  },
  {
   "cell_type": "markdown",
   "metadata": {},
   "source": [
    "Step 3. Assign it to a variable called users "
   ]
  },
  {
   "cell_type": "code",
   "execution_count": 2,
   "metadata": {},
   "outputs": [
    {
     "data": {
      "text/html": [
       "<div>\n",
       "<style scoped>\n",
       "    .dataframe tbody tr th:only-of-type {\n",
       "        vertical-align: middle;\n",
       "    }\n",
       "\n",
       "    .dataframe tbody tr th {\n",
       "        vertical-align: top;\n",
       "    }\n",
       "\n",
       "    .dataframe thead th {\n",
       "        text-align: right;\n",
       "    }\n",
       "</style>\n",
       "<table border=\"1\" class=\"dataframe\">\n",
       "  <thead>\n",
       "    <tr style=\"text-align: right;\">\n",
       "      <th></th>\n",
       "      <th>user_id</th>\n",
       "      <th>age</th>\n",
       "      <th>gender</th>\n",
       "      <th>occupation</th>\n",
       "      <th>zip_code</th>\n",
       "    </tr>\n",
       "  </thead>\n",
       "  <tbody>\n",
       "    <tr>\n",
       "      <td>0</td>\n",
       "      <td>1</td>\n",
       "      <td>24</td>\n",
       "      <td>M</td>\n",
       "      <td>technician</td>\n",
       "      <td>85711</td>\n",
       "    </tr>\n",
       "    <tr>\n",
       "      <td>1</td>\n",
       "      <td>2</td>\n",
       "      <td>53</td>\n",
       "      <td>F</td>\n",
       "      <td>other</td>\n",
       "      <td>94043</td>\n",
       "    </tr>\n",
       "    <tr>\n",
       "      <td>2</td>\n",
       "      <td>3</td>\n",
       "      <td>23</td>\n",
       "      <td>M</td>\n",
       "      <td>writer</td>\n",
       "      <td>32067</td>\n",
       "    </tr>\n",
       "    <tr>\n",
       "      <td>3</td>\n",
       "      <td>4</td>\n",
       "      <td>24</td>\n",
       "      <td>M</td>\n",
       "      <td>technician</td>\n",
       "      <td>43537</td>\n",
       "    </tr>\n",
       "    <tr>\n",
       "      <td>4</td>\n",
       "      <td>5</td>\n",
       "      <td>33</td>\n",
       "      <td>F</td>\n",
       "      <td>other</td>\n",
       "      <td>15213</td>\n",
       "    </tr>\n",
       "  </tbody>\n",
       "</table>\n",
       "</div>"
      ],
      "text/plain": [
       "   user_id  age gender  occupation zip_code\n",
       "0        1   24      M  technician    85711\n",
       "1        2   53      F       other    94043\n",
       "2        3   23      M      writer    32067\n",
       "3        4   24      M  technician    43537\n",
       "4        5   33      F       other    15213"
      ]
     },
     "execution_count": 2,
     "metadata": {},
     "output_type": "execute_result"
    }
   ],
   "source": [
    "users = pd.read_csv(\"https://raw.githubusercontent.com/justmarkham/DAT8/master/data/u.user\", sep='|')\n",
    "users.head()"
   ]
  },
  {
   "cell_type": "markdown",
   "metadata": {},
   "source": [
    "Step 4. Discover what is the mean age per occupation"
   ]
  },
  {
   "cell_type": "code",
   "execution_count": 3,
   "metadata": {},
   "outputs": [
    {
     "data": {
      "text/plain": [
       "occupation\n",
       "administrator    38.746835\n",
       "artist           31.392857\n",
       "doctor           43.571429\n",
       "educator         42.010526\n",
       "engineer         36.388060\n",
       "entertainment    29.222222\n",
       "executive        38.718750\n",
       "healthcare       41.562500\n",
       "homemaker        32.571429\n",
       "lawyer           36.750000\n",
       "librarian        40.000000\n",
       "marketing        37.615385\n",
       "none             26.555556\n",
       "other            34.523810\n",
       "programmer       33.121212\n",
       "retired          63.071429\n",
       "salesman         35.666667\n",
       "scientist        35.548387\n",
       "student          22.081633\n",
       "technician       33.148148\n",
       "writer           36.311111\n",
       "Name: age, dtype: float64"
      ]
     },
     "execution_count": 3,
     "metadata": {},
     "output_type": "execute_result"
    }
   ],
   "source": [
    "users.groupby('occupation')['age'].mean()"
   ]
  },
  {
   "cell_type": "markdown",
   "metadata": {},
   "source": [
    "Step 5. Discover the Male ratio per occupation and sort it from the most to the least"
   ]
  },
  {
   "cell_type": "code",
   "execution_count": 4,
   "metadata": {},
   "outputs": [
    {
     "data": {
      "text/plain": [
       "occupation\n",
       "doctor           1.000000\n",
       "engineer         0.970149\n",
       "technician       0.962963\n",
       "retired          0.928571\n",
       "programmer       0.909091\n",
       "executive        0.906250\n",
       "scientist        0.903226\n",
       "entertainment    0.888889\n",
       "lawyer           0.833333\n",
       "salesman         0.750000\n",
       "educator         0.726316\n",
       "student          0.693878\n",
       "other            0.657143\n",
       "marketing        0.615385\n",
       "writer           0.577778\n",
       "none             0.555556\n",
       "administrator    0.544304\n",
       "artist           0.535714\n",
       "librarian        0.431373\n",
       "healthcare       0.312500\n",
       "homemaker        0.142857\n",
       "Name: gender, dtype: float64"
      ]
     },
     "execution_count": 4,
     "metadata": {},
     "output_type": "execute_result"
    }
   ],
   "source": [
    "users.groupby('occupation').gender.apply(lambda x: (x == 'M').mean()).sort_values(ascending = False)"
   ]
  },
  {
   "cell_type": "markdown",
   "metadata": {},
   "source": [
    "Step 6. For each occupation, calculate the minimum and maximum ages"
   ]
  },
  {
   "cell_type": "code",
   "execution_count": 5,
   "metadata": {},
   "outputs": [
    {
     "name": "stdout",
     "output_type": "stream",
     "text": [
      "Minimum for each occupation:\n"
     ]
    },
    {
     "data": {
      "text/plain": [
       "occupation\n",
       "administrator    21\n",
       "artist           19\n",
       "doctor           28\n",
       "educator         23\n",
       "engineer         22\n",
       "entertainment    15\n",
       "executive        22\n",
       "healthcare       22\n",
       "homemaker        20\n",
       "lawyer           21\n",
       "librarian        23\n",
       "marketing        24\n",
       "none             11\n",
       "other            13\n",
       "programmer       20\n",
       "retired          51\n",
       "salesman         18\n",
       "scientist        23\n",
       "student           7\n",
       "technician       21\n",
       "writer           18\n",
       "Name: age, dtype: int64"
      ]
     },
     "execution_count": 5,
     "metadata": {},
     "output_type": "execute_result"
    }
   ],
   "source": [
    "print(\"Minimum for each occupation:\")\n",
    "users.groupby('occupation')['age'].min()"
   ]
  },
  {
   "cell_type": "code",
   "execution_count": 6,
   "metadata": {},
   "outputs": [
    {
     "name": "stdout",
     "output_type": "stream",
     "text": [
      "Maximum for each occupation:\n"
     ]
    },
    {
     "data": {
      "text/plain": [
       "occupation\n",
       "administrator    70\n",
       "artist           48\n",
       "doctor           64\n",
       "educator         63\n",
       "engineer         70\n",
       "entertainment    50\n",
       "executive        69\n",
       "healthcare       62\n",
       "homemaker        50\n",
       "lawyer           53\n",
       "librarian        69\n",
       "marketing        55\n",
       "none             55\n",
       "other            64\n",
       "programmer       63\n",
       "retired          73\n",
       "salesman         66\n",
       "scientist        55\n",
       "student          42\n",
       "technician       55\n",
       "writer           60\n",
       "Name: age, dtype: int64"
      ]
     },
     "execution_count": 6,
     "metadata": {},
     "output_type": "execute_result"
    }
   ],
   "source": [
    "print(\"Maximum for each occupation:\")\n",
    "users.groupby('occupation')['age'].max()"
   ]
  },
  {
   "cell_type": "markdown",
   "metadata": {},
   "source": [
    "Step 7. For each combination of occupation and sex, calculate the mean age "
   ]
  },
  {
   "cell_type": "code",
   "execution_count": 7,
   "metadata": {},
   "outputs": [
    {
     "data": {
      "text/plain": [
       "occupation     gender\n",
       "administrator  F         40.638889\n",
       "               M         37.162791\n",
       "artist         F         30.307692\n",
       "               M         32.333333\n",
       "doctor         M         43.571429\n",
       "educator       F         39.115385\n",
       "               M         43.101449\n",
       "engineer       F         29.500000\n",
       "               M         36.600000\n",
       "entertainment  F         31.000000\n",
       "               M         29.000000\n",
       "executive      F         44.000000\n",
       "               M         38.172414\n",
       "healthcare     F         39.818182\n",
       "               M         45.400000\n",
       "homemaker      F         34.166667\n",
       "               M         23.000000\n",
       "lawyer         F         39.500000\n",
       "               M         36.200000\n",
       "librarian      F         40.000000\n",
       "               M         40.000000\n",
       "marketing      F         37.200000\n",
       "               M         37.875000\n",
       "none           F         36.500000\n",
       "               M         18.600000\n",
       "other          F         35.472222\n",
       "               M         34.028986\n",
       "programmer     F         32.166667\n",
       "               M         33.216667\n",
       "retired        F         70.000000\n",
       "               M         62.538462\n",
       "salesman       F         27.000000\n",
       "               M         38.555556\n",
       "scientist      F         28.333333\n",
       "               M         36.321429\n",
       "student        F         20.750000\n",
       "               M         22.669118\n",
       "technician     F         38.000000\n",
       "               M         32.961538\n",
       "writer         F         37.631579\n",
       "               M         35.346154\n",
       "Name: age, dtype: float64"
      ]
     },
     "execution_count": 7,
     "metadata": {},
     "output_type": "execute_result"
    }
   ],
   "source": [
    "users.groupby(['occupation','gender'])['age'].mean()"
   ]
  },
  {
   "cell_type": "markdown",
   "metadata": {},
   "source": [
    "Step 8. For each occupation present the percentage of women and men"
   ]
  },
  {
   "cell_type": "code",
   "execution_count": 8,
   "metadata": {},
   "outputs": [
    {
     "data": {
      "text/plain": [
       "occupation     gender\n",
       "administrator  F         0.455696\n",
       "               M         0.544304\n",
       "artist         F         0.464286\n",
       "               M         0.535714\n",
       "doctor         M         1.000000\n",
       "educator       F         0.273684\n",
       "               M         0.726316\n",
       "engineer       F         0.029851\n",
       "               M         0.970149\n",
       "entertainment  F         0.111111\n",
       "               M         0.888889\n",
       "executive      F         0.093750\n",
       "               M         0.906250\n",
       "healthcare     F         0.687500\n",
       "               M         0.312500\n",
       "homemaker      F         0.857143\n",
       "               M         0.142857\n",
       "lawyer         F         0.166667\n",
       "               M         0.833333\n",
       "librarian      F         0.568627\n",
       "               M         0.431373\n",
       "marketing      F         0.384615\n",
       "               M         0.615385\n",
       "none           F         0.444444\n",
       "               M         0.555556\n",
       "other          F         0.342857\n",
       "               M         0.657143\n",
       "programmer     F         0.090909\n",
       "               M         0.909091\n",
       "retired        F         0.071429\n",
       "               M         0.928571\n",
       "salesman       F         0.250000\n",
       "               M         0.750000\n",
       "scientist      F         0.096774\n",
       "               M         0.903226\n",
       "student        F         0.306122\n",
       "               M         0.693878\n",
       "technician     F         0.037037\n",
       "               M         0.962963\n",
       "writer         F         0.422222\n",
       "               M         0.577778\n",
       "Name: count, dtype: float64"
      ]
     },
     "execution_count": 8,
     "metadata": {},
     "output_type": "execute_result"
    }
   ],
   "source": [
    "c = users.groupby(['occupation', 'gender'])['user_id'].count().rename(\"count\")\n",
    "c / c.groupby(level=0).sum()"
   ]
  },
  {
   "cell_type": "markdown",
   "metadata": {},
   "source": [
    "# Question 02"
   ]
  },
  {
   "cell_type": "markdown",
   "metadata": {},
   "source": [
    "Step 1. Import the necessary libraries "
   ]
  },
  {
   "cell_type": "code",
   "execution_count": 9,
   "metadata": {},
   "outputs": [],
   "source": [
    "import pandas as pd"
   ]
  },
  {
   "cell_type": "markdown",
   "metadata": {},
   "source": [
    "Step 2. Import the dataset from this address "
   ]
  },
  {
   "cell_type": "markdown",
   "metadata": {},
   "source": [
    "Step 3. Assign it to a variable called euro12 "
   ]
  },
  {
   "cell_type": "code",
   "execution_count": 10,
   "metadata": {},
   "outputs": [],
   "source": [
    "euro12 = pd.read_csv('https://raw.githubusercontent.com/guipsamora/pandas_exercises/master/02_Filtering_%26_Sorting/Euro12/Euro_2012_stats_TEAM.csv')"
   ]
  },
  {
   "cell_type": "markdown",
   "metadata": {},
   "source": [
    "Step 4. Select only the Goal column "
   ]
  },
  {
   "cell_type": "code",
   "execution_count": 11,
   "metadata": {},
   "outputs": [
    {
     "data": {
      "text/plain": [
       "0      4\n",
       "1      4\n",
       "2      4\n",
       "3      5\n",
       "4      3\n",
       "5     10\n",
       "6      5\n",
       "7      6\n",
       "8      2\n",
       "9      2\n",
       "10     6\n",
       "11     1\n",
       "12     5\n",
       "13    12\n",
       "14     5\n",
       "15     2\n",
       "Name: Goals, dtype: int64"
      ]
     },
     "execution_count": 11,
     "metadata": {},
     "output_type": "execute_result"
    }
   ],
   "source": [
    "euro12['Goals']"
   ]
  },
  {
   "cell_type": "markdown",
   "metadata": {},
   "source": [
    "Step 5. How many team participated in the Euro2012?"
   ]
  },
  {
   "cell_type": "code",
   "execution_count": 12,
   "metadata": {},
   "outputs": [
    {
     "data": {
      "text/plain": [
       "16"
      ]
     },
     "execution_count": 12,
     "metadata": {},
     "output_type": "execute_result"
    }
   ],
   "source": [
    "euro12.Team.count()"
   ]
  },
  {
   "cell_type": "markdown",
   "metadata": {},
   "source": [
    "Step 6. What is the number of columns in the dataset?"
   ]
  },
  {
   "cell_type": "code",
   "execution_count": 13,
   "metadata": {},
   "outputs": [
    {
     "data": {
      "text/plain": [
       "35"
      ]
     },
     "execution_count": 13,
     "metadata": {},
     "output_type": "execute_result"
    }
   ],
   "source": [
    "euro12.shape[1]"
   ]
  },
  {
   "cell_type": "markdown",
   "metadata": {},
   "source": [
    "Step 7. View only the columns Team, Yellow Cards and Red Cards and assign them to a dataframe called discipline"
   ]
  },
  {
   "cell_type": "code",
   "execution_count": 14,
   "metadata": {},
   "outputs": [
    {
     "data": {
      "text/html": [
       "<div>\n",
       "<style scoped>\n",
       "    .dataframe tbody tr th:only-of-type {\n",
       "        vertical-align: middle;\n",
       "    }\n",
       "\n",
       "    .dataframe tbody tr th {\n",
       "        vertical-align: top;\n",
       "    }\n",
       "\n",
       "    .dataframe thead th {\n",
       "        text-align: right;\n",
       "    }\n",
       "</style>\n",
       "<table border=\"1\" class=\"dataframe\">\n",
       "  <thead>\n",
       "    <tr style=\"text-align: right;\">\n",
       "      <th></th>\n",
       "      <th>Team</th>\n",
       "      <th>Yellow Cards</th>\n",
       "      <th>Red Cards</th>\n",
       "    </tr>\n",
       "  </thead>\n",
       "  <tbody>\n",
       "    <tr>\n",
       "      <td>0</td>\n",
       "      <td>Croatia</td>\n",
       "      <td>9</td>\n",
       "      <td>0</td>\n",
       "    </tr>\n",
       "    <tr>\n",
       "      <td>1</td>\n",
       "      <td>Czech Republic</td>\n",
       "      <td>7</td>\n",
       "      <td>0</td>\n",
       "    </tr>\n",
       "    <tr>\n",
       "      <td>2</td>\n",
       "      <td>Denmark</td>\n",
       "      <td>4</td>\n",
       "      <td>0</td>\n",
       "    </tr>\n",
       "    <tr>\n",
       "      <td>3</td>\n",
       "      <td>England</td>\n",
       "      <td>5</td>\n",
       "      <td>0</td>\n",
       "    </tr>\n",
       "    <tr>\n",
       "      <td>4</td>\n",
       "      <td>France</td>\n",
       "      <td>6</td>\n",
       "      <td>0</td>\n",
       "    </tr>\n",
       "    <tr>\n",
       "      <td>5</td>\n",
       "      <td>Germany</td>\n",
       "      <td>4</td>\n",
       "      <td>0</td>\n",
       "    </tr>\n",
       "    <tr>\n",
       "      <td>6</td>\n",
       "      <td>Greece</td>\n",
       "      <td>9</td>\n",
       "      <td>1</td>\n",
       "    </tr>\n",
       "    <tr>\n",
       "      <td>7</td>\n",
       "      <td>Italy</td>\n",
       "      <td>16</td>\n",
       "      <td>0</td>\n",
       "    </tr>\n",
       "    <tr>\n",
       "      <td>8</td>\n",
       "      <td>Netherlands</td>\n",
       "      <td>5</td>\n",
       "      <td>0</td>\n",
       "    </tr>\n",
       "    <tr>\n",
       "      <td>9</td>\n",
       "      <td>Poland</td>\n",
       "      <td>7</td>\n",
       "      <td>1</td>\n",
       "    </tr>\n",
       "    <tr>\n",
       "      <td>10</td>\n",
       "      <td>Portugal</td>\n",
       "      <td>12</td>\n",
       "      <td>0</td>\n",
       "    </tr>\n",
       "    <tr>\n",
       "      <td>11</td>\n",
       "      <td>Republic of Ireland</td>\n",
       "      <td>6</td>\n",
       "      <td>1</td>\n",
       "    </tr>\n",
       "    <tr>\n",
       "      <td>12</td>\n",
       "      <td>Russia</td>\n",
       "      <td>6</td>\n",
       "      <td>0</td>\n",
       "    </tr>\n",
       "    <tr>\n",
       "      <td>13</td>\n",
       "      <td>Spain</td>\n",
       "      <td>11</td>\n",
       "      <td>0</td>\n",
       "    </tr>\n",
       "    <tr>\n",
       "      <td>14</td>\n",
       "      <td>Sweden</td>\n",
       "      <td>7</td>\n",
       "      <td>0</td>\n",
       "    </tr>\n",
       "    <tr>\n",
       "      <td>15</td>\n",
       "      <td>Ukraine</td>\n",
       "      <td>5</td>\n",
       "      <td>0</td>\n",
       "    </tr>\n",
       "  </tbody>\n",
       "</table>\n",
       "</div>"
      ],
      "text/plain": [
       "                   Team  Yellow Cards  Red Cards\n",
       "0               Croatia             9          0\n",
       "1        Czech Republic             7          0\n",
       "2               Denmark             4          0\n",
       "3               England             5          0\n",
       "4                France             6          0\n",
       "5               Germany             4          0\n",
       "6                Greece             9          1\n",
       "7                 Italy            16          0\n",
       "8           Netherlands             5          0\n",
       "9                Poland             7          1\n",
       "10             Portugal            12          0\n",
       "11  Republic of Ireland             6          1\n",
       "12               Russia             6          0\n",
       "13                Spain            11          0\n",
       "14               Sweden             7          0\n",
       "15              Ukraine             5          0"
      ]
     },
     "execution_count": 14,
     "metadata": {},
     "output_type": "execute_result"
    }
   ],
   "source": [
    "disciplines = euro12[['Team','Yellow Cards','Red Cards']]\n",
    "disciplines"
   ]
  },
  {
   "cell_type": "markdown",
   "metadata": {},
   "source": [
    "Step 8. Sort the teams by Red Cards, then to Yellow Cards "
   ]
  },
  {
   "cell_type": "code",
   "execution_count": 15,
   "metadata": {},
   "outputs": [
    {
     "data": {
      "text/html": [
       "<div>\n",
       "<style scoped>\n",
       "    .dataframe tbody tr th:only-of-type {\n",
       "        vertical-align: middle;\n",
       "    }\n",
       "\n",
       "    .dataframe tbody tr th {\n",
       "        vertical-align: top;\n",
       "    }\n",
       "\n",
       "    .dataframe thead th {\n",
       "        text-align: right;\n",
       "    }\n",
       "</style>\n",
       "<table border=\"1\" class=\"dataframe\">\n",
       "  <thead>\n",
       "    <tr style=\"text-align: right;\">\n",
       "      <th></th>\n",
       "      <th>Team</th>\n",
       "      <th>Yellow Cards</th>\n",
       "      <th>Red Cards</th>\n",
       "    </tr>\n",
       "  </thead>\n",
       "  <tbody>\n",
       "    <tr>\n",
       "      <td>2</td>\n",
       "      <td>Denmark</td>\n",
       "      <td>4</td>\n",
       "      <td>0</td>\n",
       "    </tr>\n",
       "    <tr>\n",
       "      <td>5</td>\n",
       "      <td>Germany</td>\n",
       "      <td>4</td>\n",
       "      <td>0</td>\n",
       "    </tr>\n",
       "    <tr>\n",
       "      <td>3</td>\n",
       "      <td>England</td>\n",
       "      <td>5</td>\n",
       "      <td>0</td>\n",
       "    </tr>\n",
       "    <tr>\n",
       "      <td>8</td>\n",
       "      <td>Netherlands</td>\n",
       "      <td>5</td>\n",
       "      <td>0</td>\n",
       "    </tr>\n",
       "    <tr>\n",
       "      <td>15</td>\n",
       "      <td>Ukraine</td>\n",
       "      <td>5</td>\n",
       "      <td>0</td>\n",
       "    </tr>\n",
       "    <tr>\n",
       "      <td>4</td>\n",
       "      <td>France</td>\n",
       "      <td>6</td>\n",
       "      <td>0</td>\n",
       "    </tr>\n",
       "    <tr>\n",
       "      <td>12</td>\n",
       "      <td>Russia</td>\n",
       "      <td>6</td>\n",
       "      <td>0</td>\n",
       "    </tr>\n",
       "    <tr>\n",
       "      <td>1</td>\n",
       "      <td>Czech Republic</td>\n",
       "      <td>7</td>\n",
       "      <td>0</td>\n",
       "    </tr>\n",
       "    <tr>\n",
       "      <td>14</td>\n",
       "      <td>Sweden</td>\n",
       "      <td>7</td>\n",
       "      <td>0</td>\n",
       "    </tr>\n",
       "    <tr>\n",
       "      <td>0</td>\n",
       "      <td>Croatia</td>\n",
       "      <td>9</td>\n",
       "      <td>0</td>\n",
       "    </tr>\n",
       "    <tr>\n",
       "      <td>13</td>\n",
       "      <td>Spain</td>\n",
       "      <td>11</td>\n",
       "      <td>0</td>\n",
       "    </tr>\n",
       "    <tr>\n",
       "      <td>10</td>\n",
       "      <td>Portugal</td>\n",
       "      <td>12</td>\n",
       "      <td>0</td>\n",
       "    </tr>\n",
       "    <tr>\n",
       "      <td>7</td>\n",
       "      <td>Italy</td>\n",
       "      <td>16</td>\n",
       "      <td>0</td>\n",
       "    </tr>\n",
       "    <tr>\n",
       "      <td>11</td>\n",
       "      <td>Republic of Ireland</td>\n",
       "      <td>6</td>\n",
       "      <td>1</td>\n",
       "    </tr>\n",
       "    <tr>\n",
       "      <td>9</td>\n",
       "      <td>Poland</td>\n",
       "      <td>7</td>\n",
       "      <td>1</td>\n",
       "    </tr>\n",
       "    <tr>\n",
       "      <td>6</td>\n",
       "      <td>Greece</td>\n",
       "      <td>9</td>\n",
       "      <td>1</td>\n",
       "    </tr>\n",
       "  </tbody>\n",
       "</table>\n",
       "</div>"
      ],
      "text/plain": [
       "                   Team  Yellow Cards  Red Cards\n",
       "2               Denmark             4          0\n",
       "5               Germany             4          0\n",
       "3               England             5          0\n",
       "8           Netherlands             5          0\n",
       "15              Ukraine             5          0\n",
       "4                France             6          0\n",
       "12               Russia             6          0\n",
       "1        Czech Republic             7          0\n",
       "14               Sweden             7          0\n",
       "0               Croatia             9          0\n",
       "13                Spain            11          0\n",
       "10             Portugal            12          0\n",
       "7                 Italy            16          0\n",
       "11  Republic of Ireland             6          1\n",
       "9                Poland             7          1\n",
       "6                Greece             9          1"
      ]
     },
     "execution_count": 15,
     "metadata": {},
     "output_type": "execute_result"
    }
   ],
   "source": [
    "disciplines.sort_values(\"Yellow Cards\").sort_values(\"Red Cards\")"
   ]
  },
  {
   "cell_type": "markdown",
   "metadata": {},
   "source": [
    "Step 9. Calculate the mean Yellow Cards given per Team "
   ]
  },
  {
   "cell_type": "code",
   "execution_count": 16,
   "metadata": {},
   "outputs": [
    {
     "data": {
      "text/plain": [
       "7.4375"
      ]
     },
     "execution_count": 16,
     "metadata": {},
     "output_type": "execute_result"
    }
   ],
   "source": [
    "disciplines['Yellow Cards'].mean()"
   ]
  },
  {
   "cell_type": "markdown",
   "metadata": {},
   "source": [
    "# Question 3"
   ]
  },
  {
   "cell_type": "markdown",
   "metadata": {},
   "source": [
    "Step 1. Import the necessary libraries "
   ]
  },
  {
   "cell_type": "code",
   "execution_count": 17,
   "metadata": {},
   "outputs": [],
   "source": [
    "import pandas as pd\n",
    "from random import randint"
   ]
  },
  {
   "cell_type": "markdown",
   "metadata": {},
   "source": [
    "Step 2. Create 3 differents Series, each of length 100, as follows: "
   ]
  },
  {
   "cell_type": "markdown",
   "metadata": {},
   "source": [
    "• The first a random number from 1 to 4 "
   ]
  },
  {
   "cell_type": "markdown",
   "metadata": {},
   "source": [
    "• The second a random number from 1 to 3 "
   ]
  },
  {
   "cell_type": "markdown",
   "metadata": {},
   "source": [
    "• The third a random number from 10,000 to 30,000"
   ]
  },
  {
   "cell_type": "code",
   "execution_count": 18,
   "metadata": {},
   "outputs": [],
   "source": [
    "def Create(start_num, end_num):\n",
    "    num = []\n",
    "    for i in range(100):\n",
    "        val = randint(start_num,end_num)\n",
    "        num.append(val)\n",
    "    return(pd.Series(num))    "
   ]
  },
  {
   "cell_type": "code",
   "execution_count": 19,
   "metadata": {},
   "outputs": [],
   "source": [
    "number_1 = Create(1,4)\n",
    "number_2 = Create(1,3)\n",
    "number_3 = Create(10000,30000)"
   ]
  },
  {
   "cell_type": "markdown",
   "metadata": {},
   "source": [
    "Step 3. Create a DataFrame by joinning the Series by column "
   ]
  },
  {
   "cell_type": "code",
   "execution_count": 20,
   "metadata": {},
   "outputs": [],
   "source": [
    "series = (number_1, number_2, number_3)\n",
    "df = pd.concat(series, axis=1)"
   ]
  },
  {
   "cell_type": "markdown",
   "metadata": {},
   "source": [
    "Step 4. Change the name of the columns to bedrs, bathrs, price_sqr_meter"
   ]
  },
  {
   "cell_type": "code",
   "execution_count": 21,
   "metadata": {},
   "outputs": [],
   "source": [
    "df.columns = [\"bedrs\", \"bathrs\", \"price_sqr_meter\"]"
   ]
  },
  {
   "cell_type": "markdown",
   "metadata": {},
   "source": [
    "Step 5. Create a one column DataFrame with the values of the 3 Series and assign it to 'bigcolumn'"
   ]
  },
  {
   "cell_type": "code",
   "execution_count": 22,
   "metadata": {},
   "outputs": [],
   "source": [
    "bigcolumn = pd.DataFrame(number_1.append(number_2).append(number_3))"
   ]
  },
  {
   "cell_type": "markdown",
   "metadata": {},
   "source": [
    "Step 6. Ops it seems it is going only until index 99. Is it true? "
   ]
  },
  {
   "cell_type": "code",
   "execution_count": 23,
   "metadata": {},
   "outputs": [
    {
     "data": {
      "text/html": [
       "<div>\n",
       "<style scoped>\n",
       "    .dataframe tbody tr th:only-of-type {\n",
       "        vertical-align: middle;\n",
       "    }\n",
       "\n",
       "    .dataframe tbody tr th {\n",
       "        vertical-align: top;\n",
       "    }\n",
       "\n",
       "    .dataframe thead th {\n",
       "        text-align: right;\n",
       "    }\n",
       "</style>\n",
       "<table border=\"1\" class=\"dataframe\">\n",
       "  <thead>\n",
       "    <tr style=\"text-align: right;\">\n",
       "      <th></th>\n",
       "      <th>0</th>\n",
       "    </tr>\n",
       "  </thead>\n",
       "  <tbody>\n",
       "    <tr>\n",
       "      <td>95</td>\n",
       "      <td>12534</td>\n",
       "    </tr>\n",
       "    <tr>\n",
       "      <td>96</td>\n",
       "      <td>29598</td>\n",
       "    </tr>\n",
       "    <tr>\n",
       "      <td>97</td>\n",
       "      <td>18292</td>\n",
       "    </tr>\n",
       "    <tr>\n",
       "      <td>98</td>\n",
       "      <td>12738</td>\n",
       "    </tr>\n",
       "    <tr>\n",
       "      <td>99</td>\n",
       "      <td>26608</td>\n",
       "    </tr>\n",
       "  </tbody>\n",
       "</table>\n",
       "</div>"
      ],
      "text/plain": [
       "        0\n",
       "95  12534\n",
       "96  29598\n",
       "97  18292\n",
       "98  12738\n",
       "99  26608"
      ]
     },
     "execution_count": 23,
     "metadata": {},
     "output_type": "execute_result"
    }
   ],
   "source": [
    "bigcolumn.tail()"
   ]
  },
  {
   "cell_type": "markdown",
   "metadata": {},
   "source": [
    "Step 7. Reindex the DataFrame so it goes from 0 to 299 "
   ]
  },
  {
   "cell_type": "code",
   "execution_count": 24,
   "metadata": {},
   "outputs": [
    {
     "data": {
      "text/html": [
       "<div>\n",
       "<style scoped>\n",
       "    .dataframe tbody tr th:only-of-type {\n",
       "        vertical-align: middle;\n",
       "    }\n",
       "\n",
       "    .dataframe tbody tr th {\n",
       "        vertical-align: top;\n",
       "    }\n",
       "\n",
       "    .dataframe thead th {\n",
       "        text-align: right;\n",
       "    }\n",
       "</style>\n",
       "<table border=\"1\" class=\"dataframe\">\n",
       "  <thead>\n",
       "    <tr style=\"text-align: right;\">\n",
       "      <th></th>\n",
       "      <th>index</th>\n",
       "      <th>0</th>\n",
       "    </tr>\n",
       "  </thead>\n",
       "  <tbody>\n",
       "    <tr>\n",
       "      <td>0</td>\n",
       "      <td>0</td>\n",
       "      <td>1</td>\n",
       "    </tr>\n",
       "    <tr>\n",
       "      <td>1</td>\n",
       "      <td>1</td>\n",
       "      <td>1</td>\n",
       "    </tr>\n",
       "    <tr>\n",
       "      <td>2</td>\n",
       "      <td>2</td>\n",
       "      <td>1</td>\n",
       "    </tr>\n",
       "    <tr>\n",
       "      <td>3</td>\n",
       "      <td>3</td>\n",
       "      <td>2</td>\n",
       "    </tr>\n",
       "    <tr>\n",
       "      <td>4</td>\n",
       "      <td>4</td>\n",
       "      <td>3</td>\n",
       "    </tr>\n",
       "    <tr>\n",
       "      <td>...</td>\n",
       "      <td>...</td>\n",
       "      <td>...</td>\n",
       "    </tr>\n",
       "    <tr>\n",
       "      <td>295</td>\n",
       "      <td>95</td>\n",
       "      <td>12534</td>\n",
       "    </tr>\n",
       "    <tr>\n",
       "      <td>296</td>\n",
       "      <td>96</td>\n",
       "      <td>29598</td>\n",
       "    </tr>\n",
       "    <tr>\n",
       "      <td>297</td>\n",
       "      <td>97</td>\n",
       "      <td>18292</td>\n",
       "    </tr>\n",
       "    <tr>\n",
       "      <td>298</td>\n",
       "      <td>98</td>\n",
       "      <td>12738</td>\n",
       "    </tr>\n",
       "    <tr>\n",
       "      <td>299</td>\n",
       "      <td>99</td>\n",
       "      <td>26608</td>\n",
       "    </tr>\n",
       "  </tbody>\n",
       "</table>\n",
       "<p>300 rows × 2 columns</p>\n",
       "</div>"
      ],
      "text/plain": [
       "     index      0\n",
       "0        0      1\n",
       "1        1      1\n",
       "2        2      1\n",
       "3        3      2\n",
       "4        4      3\n",
       "..     ...    ...\n",
       "295     95  12534\n",
       "296     96  29598\n",
       "297     97  18292\n",
       "298     98  12738\n",
       "299     99  26608\n",
       "\n",
       "[300 rows x 2 columns]"
      ]
     },
     "execution_count": 24,
     "metadata": {},
     "output_type": "execute_result"
    }
   ],
   "source": [
    "bigcolumn.reset_index()"
   ]
  },
  {
   "cell_type": "markdown",
   "metadata": {},
   "source": [
    "# Question 04"
   ]
  },
  {
   "cell_type": "markdown",
   "metadata": {},
   "source": [
    "Step 1. Import the necessary libraries"
   ]
  },
  {
   "cell_type": "code",
   "execution_count": 25,
   "metadata": {},
   "outputs": [],
   "source": [
    "import pandas as pd"
   ]
  },
  {
   "cell_type": "markdown",
   "metadata": {},
   "source": [
    "Step 2. Import the dataset from this address"
   ]
  },
  {
   "cell_type": "code",
   "execution_count": 26,
   "metadata": {},
   "outputs": [],
   "source": [
    "df = pd.read_csv(\"https://raw.githubusercontent.com/guipsamora/pandas_exercises/master/06_Stats/Wind_Stats/wind.data\", sep='\\s+')"
   ]
  },
  {
   "cell_type": "markdown",
   "metadata": {},
   "source": [
    "Step 3. Assign it to a variable called data and replace the first 3 columns by a proper datetime index. \n"
   ]
  },
  {
   "cell_type": "markdown",
   "metadata": {},
   "source": [
    "Step 4. Year 2061? Do we really have data from this year? Create a function to fix it and apply it. "
   ]
  },
  {
   "cell_type": "code",
   "execution_count": 27,
   "metadata": {},
   "outputs": [],
   "source": [
    "df['Date'] = list(pd.to_datetime(dict(year=df.Yr+1900, month=df.Mo, day=df.Dy)))\n",
    "data = df.drop(columns = ['Yr','Mo','Dy'])"
   ]
  },
  {
   "cell_type": "markdown",
   "metadata": {},
   "source": [
    "Step 5. Set the right dates as the index. Pay attention at the data type, it should be datetime64[ns]. "
   ]
  },
  {
   "cell_type": "code",
   "execution_count": 28,
   "metadata": {},
   "outputs": [],
   "source": [
    "data = data.set_index('Date')"
   ]
  },
  {
   "cell_type": "markdown",
   "metadata": {},
   "source": [
    "Step 6. Compute how many values are missing for each location over the entire record.They should be ignored in all calculations below"
   ]
  },
  {
   "cell_type": "code",
   "execution_count": 29,
   "metadata": {},
   "outputs": [
    {
     "data": {
      "text/plain": [
       "RPT    6\n",
       "VAL    3\n",
       "ROS    2\n",
       "KIL    5\n",
       "SHA    2\n",
       "BIR    0\n",
       "DUB    3\n",
       "CLA    2\n",
       "MUL    3\n",
       "CLO    1\n",
       "BEL    0\n",
       "MAL    4\n",
       "dtype: int64"
      ]
     },
     "execution_count": 29,
     "metadata": {},
     "output_type": "execute_result"
    }
   ],
   "source": [
    "data.isnull().sum()"
   ]
  },
  {
   "cell_type": "code",
   "execution_count": 30,
   "metadata": {},
   "outputs": [],
   "source": [
    "data = data.dropna()"
   ]
  },
  {
   "cell_type": "markdown",
   "metadata": {},
   "source": [
    "Step 7. Compute how many non-missing values there are in total. "
   ]
  },
  {
   "cell_type": "code",
   "execution_count": 31,
   "metadata": {},
   "outputs": [
    {
     "data": {
      "text/plain": [
       "0"
      ]
     },
     "execution_count": 31,
     "metadata": {},
     "output_type": "execute_result"
    }
   ],
   "source": [
    "data.isnull().sum().sum()"
   ]
  },
  {
   "cell_type": "markdown",
   "metadata": {},
   "source": [
    "Step 8. Calculate the mean windspeeds of the windspeeds over all the locations and all the times. "
   ]
  },
  {
   "cell_type": "code",
   "execution_count": 32,
   "metadata": {},
   "outputs": [
    {
     "data": {
      "text/plain": [
       "10.222465245951712"
      ]
     },
     "execution_count": 32,
     "metadata": {},
     "output_type": "execute_result"
    }
   ],
   "source": [
    "data.mean().mean()"
   ]
  },
  {
   "cell_type": "markdown",
   "metadata": {},
   "source": [
    "Step 9. Create a DataFrame called loc_stats and calculate the min, max and mean windspeeds and standard deviations of the windspeeds at each location over all the days "
   ]
  },
  {
   "cell_type": "code",
   "execution_count": 33,
   "metadata": {},
   "outputs": [
    {
     "data": {
      "text/html": [
       "<div>\n",
       "<style scoped>\n",
       "    .dataframe tbody tr th:only-of-type {\n",
       "        vertical-align: middle;\n",
       "    }\n",
       "\n",
       "    .dataframe tbody tr th {\n",
       "        vertical-align: top;\n",
       "    }\n",
       "\n",
       "    .dataframe thead th {\n",
       "        text-align: right;\n",
       "    }\n",
       "</style>\n",
       "<table border=\"1\" class=\"dataframe\">\n",
       "  <thead>\n",
       "    <tr style=\"text-align: right;\">\n",
       "      <th></th>\n",
       "      <th>RPT</th>\n",
       "      <th>VAL</th>\n",
       "      <th>ROS</th>\n",
       "      <th>KIL</th>\n",
       "      <th>SHA</th>\n",
       "      <th>BIR</th>\n",
       "      <th>DUB</th>\n",
       "      <th>CLA</th>\n",
       "      <th>MUL</th>\n",
       "      <th>CLO</th>\n",
       "      <th>BEL</th>\n",
       "      <th>MAL</th>\n",
       "    </tr>\n",
       "  </thead>\n",
       "  <tbody>\n",
       "    <tr>\n",
       "      <td>mean</td>\n",
       "      <td>12.359979</td>\n",
       "      <td>10.640267</td>\n",
       "      <td>11.656396</td>\n",
       "      <td>6.298587</td>\n",
       "      <td>10.448923</td>\n",
       "      <td>7.085066</td>\n",
       "      <td>9.793006</td>\n",
       "      <td>8.486601</td>\n",
       "      <td>8.490257</td>\n",
       "      <td>8.696705</td>\n",
       "      <td>13.110668</td>\n",
       "      <td>15.603129</td>\n",
       "    </tr>\n",
       "    <tr>\n",
       "      <td>std</td>\n",
       "      <td>5.618805</td>\n",
       "      <td>5.268695</td>\n",
       "      <td>5.007805</td>\n",
       "      <td>3.600942</td>\n",
       "      <td>4.933988</td>\n",
       "      <td>3.967735</td>\n",
       "      <td>4.978030</td>\n",
       "      <td>4.498299</td>\n",
       "      <td>4.165947</td>\n",
       "      <td>4.500488</td>\n",
       "      <td>5.829054</td>\n",
       "      <td>6.702178</td>\n",
       "    </tr>\n",
       "    <tr>\n",
       "      <td>min</td>\n",
       "      <td>0.670000</td>\n",
       "      <td>0.210000</td>\n",
       "      <td>1.500000</td>\n",
       "      <td>0.000000</td>\n",
       "      <td>0.130000</td>\n",
       "      <td>0.000000</td>\n",
       "      <td>0.000000</td>\n",
       "      <td>0.000000</td>\n",
       "      <td>0.000000</td>\n",
       "      <td>0.040000</td>\n",
       "      <td>0.130000</td>\n",
       "      <td>0.670000</td>\n",
       "    </tr>\n",
       "    <tr>\n",
       "      <td>max</td>\n",
       "      <td>35.800000</td>\n",
       "      <td>33.370000</td>\n",
       "      <td>33.840000</td>\n",
       "      <td>28.460000</td>\n",
       "      <td>37.540000</td>\n",
       "      <td>26.160000</td>\n",
       "      <td>30.370000</td>\n",
       "      <td>31.080000</td>\n",
       "      <td>25.880000</td>\n",
       "      <td>28.210000</td>\n",
       "      <td>42.380000</td>\n",
       "      <td>42.540000</td>\n",
       "    </tr>\n",
       "  </tbody>\n",
       "</table>\n",
       "</div>"
      ],
      "text/plain": [
       "            RPT        VAL        ROS        KIL        SHA        BIR  \\\n",
       "mean  12.359979  10.640267  11.656396   6.298587  10.448923   7.085066   \n",
       "std    5.618805   5.268695   5.007805   3.600942   4.933988   3.967735   \n",
       "min    0.670000   0.210000   1.500000   0.000000   0.130000   0.000000   \n",
       "max   35.800000  33.370000  33.840000  28.460000  37.540000  26.160000   \n",
       "\n",
       "            DUB        CLA        MUL        CLO        BEL        MAL  \n",
       "mean   9.793006   8.486601   8.490257   8.696705  13.110668  15.603129  \n",
       "std    4.978030   4.498299   4.165947   4.500488   5.829054   6.702178  \n",
       "min    0.000000   0.000000   0.000000   0.040000   0.130000   0.670000  \n",
       "max   30.370000  31.080000  25.880000  28.210000  42.380000  42.540000  "
      ]
     },
     "execution_count": 33,
     "metadata": {},
     "output_type": "execute_result"
    }
   ],
   "source": [
    "loc_stats = data.describe().iloc[[1,2,3,7],:]\n",
    "loc_stats"
   ]
  },
  {
   "cell_type": "markdown",
   "metadata": {},
   "source": [
    "Step 10. Create a DataFrame called day_stats and calculate the min, max and mean windspeed and standard deviations of the windspeeds across all the locations at each day. "
   ]
  },
  {
   "cell_type": "code",
   "execution_count": 34,
   "metadata": {},
   "outputs": [
    {
     "data": {
      "text/html": [
       "<div>\n",
       "<style scoped>\n",
       "    .dataframe tbody tr th:only-of-type {\n",
       "        vertical-align: middle;\n",
       "    }\n",
       "\n",
       "    .dataframe tbody tr th {\n",
       "        vertical-align: top;\n",
       "    }\n",
       "\n",
       "    .dataframe thead th {\n",
       "        text-align: right;\n",
       "    }\n",
       "</style>\n",
       "<table border=\"1\" class=\"dataframe\">\n",
       "  <thead>\n",
       "    <tr style=\"text-align: right;\">\n",
       "      <th></th>\n",
       "      <th>mean</th>\n",
       "      <th>min</th>\n",
       "      <th>max</th>\n",
       "      <th>std</th>\n",
       "    </tr>\n",
       "    <tr>\n",
       "      <th>Date</th>\n",
       "      <th></th>\n",
       "      <th></th>\n",
       "      <th></th>\n",
       "      <th></th>\n",
       "    </tr>\n",
       "  </thead>\n",
       "  <tbody>\n",
       "    <tr>\n",
       "      <td>1961-01-04</td>\n",
       "      <td>6.619167</td>\n",
       "      <td>1.79</td>\n",
       "      <td>11.75</td>\n",
       "      <td>3.198126</td>\n",
       "    </tr>\n",
       "    <tr>\n",
       "      <td>1961-01-05</td>\n",
       "      <td>10.630000</td>\n",
       "      <td>6.17</td>\n",
       "      <td>13.33</td>\n",
       "      <td>2.445356</td>\n",
       "    </tr>\n",
       "    <tr>\n",
       "      <td>1961-01-06</td>\n",
       "      <td>8.240000</td>\n",
       "      <td>4.42</td>\n",
       "      <td>13.21</td>\n",
       "      <td>2.998063</td>\n",
       "    </tr>\n",
       "    <tr>\n",
       "      <td>1961-01-07</td>\n",
       "      <td>10.385000</td>\n",
       "      <td>4.96</td>\n",
       "      <td>14.29</td>\n",
       "      <td>3.072114</td>\n",
       "    </tr>\n",
       "    <tr>\n",
       "      <td>1961-01-08</td>\n",
       "      <td>10.487500</td>\n",
       "      <td>5.91</td>\n",
       "      <td>16.62</td>\n",
       "      <td>3.547237</td>\n",
       "    </tr>\n",
       "    <tr>\n",
       "      <td>...</td>\n",
       "      <td>...</td>\n",
       "      <td>...</td>\n",
       "      <td>...</td>\n",
       "      <td>...</td>\n",
       "    </tr>\n",
       "    <tr>\n",
       "      <td>1978-12-27</td>\n",
       "      <td>16.708333</td>\n",
       "      <td>8.08</td>\n",
       "      <td>40.08</td>\n",
       "      <td>7.868076</td>\n",
       "    </tr>\n",
       "    <tr>\n",
       "      <td>1978-12-28</td>\n",
       "      <td>15.150000</td>\n",
       "      <td>5.00</td>\n",
       "      <td>41.46</td>\n",
       "      <td>9.687857</td>\n",
       "    </tr>\n",
       "    <tr>\n",
       "      <td>1978-12-29</td>\n",
       "      <td>14.890000</td>\n",
       "      <td>8.71</td>\n",
       "      <td>29.58</td>\n",
       "      <td>5.756836</td>\n",
       "    </tr>\n",
       "    <tr>\n",
       "      <td>1978-12-30</td>\n",
       "      <td>15.367500</td>\n",
       "      <td>9.13</td>\n",
       "      <td>28.79</td>\n",
       "      <td>5.540437</td>\n",
       "    </tr>\n",
       "    <tr>\n",
       "      <td>1978-12-31</td>\n",
       "      <td>15.402500</td>\n",
       "      <td>9.59</td>\n",
       "      <td>27.29</td>\n",
       "      <td>5.702483</td>\n",
       "    </tr>\n",
       "  </tbody>\n",
       "</table>\n",
       "<p>6546 rows × 4 columns</p>\n",
       "</div>"
      ],
      "text/plain": [
       "                 mean   min    max       std\n",
       "Date                                        \n",
       "1961-01-04   6.619167  1.79  11.75  3.198126\n",
       "1961-01-05  10.630000  6.17  13.33  2.445356\n",
       "1961-01-06   8.240000  4.42  13.21  2.998063\n",
       "1961-01-07  10.385000  4.96  14.29  3.072114\n",
       "1961-01-08  10.487500  5.91  16.62  3.547237\n",
       "...               ...   ...    ...       ...\n",
       "1978-12-27  16.708333  8.08  40.08  7.868076\n",
       "1978-12-28  15.150000  5.00  41.46  9.687857\n",
       "1978-12-29  14.890000  8.71  29.58  5.756836\n",
       "1978-12-30  15.367500  9.13  28.79  5.540437\n",
       "1978-12-31  15.402500  9.59  27.29  5.702483\n",
       "\n",
       "[6546 rows x 4 columns]"
      ]
     },
     "execution_count": 34,
     "metadata": {},
     "output_type": "execute_result"
    }
   ],
   "source": [
    "day_stats = pd.DataFrame()\n",
    "day_stats['mean'] = data.mean(axis = 1)\n",
    "day_stats['min'] = data.min(axis = 1)\n",
    "day_stats['max'] = data.max(axis = 1)\n",
    "day_stats['std'] = data.std(axis = 1)\n",
    "day_stats"
   ]
  },
  {
   "cell_type": "markdown",
   "metadata": {},
   "source": [
    "Step 11. Find the average windspeed in January for each location. Treat January 1961 and January 1962 both as January."
   ]
  },
  {
   "cell_type": "code",
   "execution_count": 35,
   "metadata": {},
   "outputs": [
    {
     "data": {
      "text/plain": [
       "RPT    14.831609\n",
       "VAL    12.885389\n",
       "ROS    13.276275\n",
       "KIL     7.152477\n",
       "SHA    11.644467\n",
       "BIR     8.030561\n",
       "DUB    11.788336\n",
       "CLA     9.486962\n",
       "MUL     9.511501\n",
       "CLO    10.024069\n",
       "BEL    14.527848\n",
       "MAL    18.041826\n",
       "dtype: float64"
      ]
     },
     "execution_count": 35,
     "metadata": {},
     "output_type": "execute_result"
    }
   ],
   "source": [
    "data[data.index.month == 1].mean()"
   ]
  },
  {
   "cell_type": "markdown",
   "metadata": {},
   "source": [
    "Step 12. Downsample the record to a yearly frequency for each location. "
   ]
  },
  {
   "cell_type": "code",
   "execution_count": 36,
   "metadata": {},
   "outputs": [
    {
     "data": {
      "text/html": [
       "<div>\n",
       "<style scoped>\n",
       "    .dataframe tbody tr th:only-of-type {\n",
       "        vertical-align: middle;\n",
       "    }\n",
       "\n",
       "    .dataframe tbody tr th {\n",
       "        vertical-align: top;\n",
       "    }\n",
       "\n",
       "    .dataframe thead th {\n",
       "        text-align: right;\n",
       "    }\n",
       "</style>\n",
       "<table border=\"1\" class=\"dataframe\">\n",
       "  <thead>\n",
       "    <tr style=\"text-align: right;\">\n",
       "      <th></th>\n",
       "      <th>RPT</th>\n",
       "      <th>VAL</th>\n",
       "      <th>ROS</th>\n",
       "      <th>KIL</th>\n",
       "      <th>SHA</th>\n",
       "      <th>BIR</th>\n",
       "      <th>DUB</th>\n",
       "      <th>CLA</th>\n",
       "      <th>MUL</th>\n",
       "      <th>CLO</th>\n",
       "      <th>BEL</th>\n",
       "      <th>MAL</th>\n",
       "    </tr>\n",
       "    <tr>\n",
       "      <th>Date</th>\n",
       "      <th></th>\n",
       "      <th></th>\n",
       "      <th></th>\n",
       "      <th></th>\n",
       "      <th></th>\n",
       "      <th></th>\n",
       "      <th></th>\n",
       "      <th></th>\n",
       "      <th></th>\n",
       "      <th></th>\n",
       "      <th></th>\n",
       "      <th></th>\n",
       "    </tr>\n",
       "  </thead>\n",
       "  <tbody>\n",
       "    <tr>\n",
       "      <td>1961-12-31</td>\n",
       "      <td>12.214484</td>\n",
       "      <td>10.214218</td>\n",
       "      <td>11.293510</td>\n",
       "      <td>6.855575</td>\n",
       "      <td>10.757729</td>\n",
       "      <td>7.629292</td>\n",
       "      <td>9.632065</td>\n",
       "      <td>8.701445</td>\n",
       "      <td>8.582360</td>\n",
       "      <td>9.717906</td>\n",
       "      <td>13.286991</td>\n",
       "      <td>13.584012</td>\n",
       "    </tr>\n",
       "    <tr>\n",
       "      <td>1962-12-31</td>\n",
       "      <td>12.239420</td>\n",
       "      <td>10.125856</td>\n",
       "      <td>11.656354</td>\n",
       "      <td>6.935691</td>\n",
       "      <td>10.653343</td>\n",
       "      <td>7.377818</td>\n",
       "      <td>10.994088</td>\n",
       "      <td>8.768674</td>\n",
       "      <td>8.294696</td>\n",
       "      <td>9.655138</td>\n",
       "      <td>12.937569</td>\n",
       "      <td>14.298011</td>\n",
       "    </tr>\n",
       "    <tr>\n",
       "      <td>1963-12-31</td>\n",
       "      <td>12.837534</td>\n",
       "      <td>10.843726</td>\n",
       "      <td>12.586493</td>\n",
       "      <td>7.343397</td>\n",
       "      <td>11.738959</td>\n",
       "      <td>8.452274</td>\n",
       "      <td>11.101726</td>\n",
       "      <td>10.372849</td>\n",
       "      <td>8.924932</td>\n",
       "      <td>10.231068</td>\n",
       "      <td>13.662630</td>\n",
       "      <td>15.063507</td>\n",
       "    </tr>\n",
       "    <tr>\n",
       "      <td>1964-12-31</td>\n",
       "      <td>12.356967</td>\n",
       "      <td>10.906967</td>\n",
       "      <td>12.100956</td>\n",
       "      <td>6.785519</td>\n",
       "      <td>11.447077</td>\n",
       "      <td>7.565765</td>\n",
       "      <td>10.254945</td>\n",
       "      <td>9.462350</td>\n",
       "      <td>7.787295</td>\n",
       "      <td>10.208852</td>\n",
       "      <td>13.728033</td>\n",
       "      <td>14.884372</td>\n",
       "    </tr>\n",
       "    <tr>\n",
       "      <td>1965-12-31</td>\n",
       "      <td>12.458795</td>\n",
       "      <td>11.090247</td>\n",
       "      <td>11.851726</td>\n",
       "      <td>6.869425</td>\n",
       "      <td>11.037699</td>\n",
       "      <td>7.492164</td>\n",
       "      <td>10.646767</td>\n",
       "      <td>8.889726</td>\n",
       "      <td>7.921699</td>\n",
       "      <td>9.925945</td>\n",
       "      <td>12.979753</td>\n",
       "      <td>15.610356</td>\n",
       "    </tr>\n",
       "    <tr>\n",
       "      <td>1966-12-31</td>\n",
       "      <td>13.463671</td>\n",
       "      <td>11.563836</td>\n",
       "      <td>12.026548</td>\n",
       "      <td>7.345014</td>\n",
       "      <td>11.806301</td>\n",
       "      <td>7.793425</td>\n",
       "      <td>10.569096</td>\n",
       "      <td>8.839890</td>\n",
       "      <td>8.504740</td>\n",
       "      <td>9.774795</td>\n",
       "      <td>14.261507</td>\n",
       "      <td>16.291616</td>\n",
       "    </tr>\n",
       "    <tr>\n",
       "      <td>1967-12-31</td>\n",
       "      <td>12.726521</td>\n",
       "      <td>10.984712</td>\n",
       "      <td>11.736082</td>\n",
       "      <td>7.135918</td>\n",
       "      <td>11.626164</td>\n",
       "      <td>7.367589</td>\n",
       "      <td>10.656822</td>\n",
       "      <td>9.316384</td>\n",
       "      <td>8.642740</td>\n",
       "      <td>9.542740</td>\n",
       "      <td>14.774658</td>\n",
       "      <td>17.135479</td>\n",
       "    </tr>\n",
       "    <tr>\n",
       "      <td>1968-12-31</td>\n",
       "      <td>11.856803</td>\n",
       "      <td>10.499945</td>\n",
       "      <td>11.420574</td>\n",
       "      <td>6.495656</td>\n",
       "      <td>10.786721</td>\n",
       "      <td>6.087022</td>\n",
       "      <td>8.872623</td>\n",
       "      <td>8.280902</td>\n",
       "      <td>7.247596</td>\n",
       "      <td>7.850055</td>\n",
       "      <td>12.840164</td>\n",
       "      <td>15.045383</td>\n",
       "    </tr>\n",
       "    <tr>\n",
       "      <td>1969-12-31</td>\n",
       "      <td>11.151863</td>\n",
       "      <td>9.691644</td>\n",
       "      <td>10.846301</td>\n",
       "      <td>5.755425</td>\n",
       "      <td>9.851890</td>\n",
       "      <td>6.163945</td>\n",
       "      <td>8.543260</td>\n",
       "      <td>7.688219</td>\n",
       "      <td>7.899863</td>\n",
       "      <td>7.749945</td>\n",
       "      <td>12.606274</td>\n",
       "      <td>15.749233</td>\n",
       "    </tr>\n",
       "    <tr>\n",
       "      <td>1970-12-31</td>\n",
       "      <td>12.616877</td>\n",
       "      <td>10.763808</td>\n",
       "      <td>11.779890</td>\n",
       "      <td>6.229397</td>\n",
       "      <td>10.595671</td>\n",
       "      <td>7.636630</td>\n",
       "      <td>9.636603</td>\n",
       "      <td>8.358932</td>\n",
       "      <td>9.325014</td>\n",
       "      <td>8.306110</td>\n",
       "      <td>13.204192</td>\n",
       "      <td>16.483973</td>\n",
       "    </tr>\n",
       "    <tr>\n",
       "      <td>1971-12-31</td>\n",
       "      <td>11.255315</td>\n",
       "      <td>9.067425</td>\n",
       "      <td>11.043151</td>\n",
       "      <td>5.225507</td>\n",
       "      <td>9.408137</td>\n",
       "      <td>6.069863</td>\n",
       "      <td>8.341479</td>\n",
       "      <td>6.735068</td>\n",
       "      <td>7.885233</td>\n",
       "      <td>7.201890</td>\n",
       "      <td>12.185781</td>\n",
       "      <td>14.970110</td>\n",
       "    </tr>\n",
       "    <tr>\n",
       "      <td>1972-12-31</td>\n",
       "      <td>12.466831</td>\n",
       "      <td>10.550492</td>\n",
       "      <td>12.086230</td>\n",
       "      <td>5.926175</td>\n",
       "      <td>9.443497</td>\n",
       "      <td>6.356202</td>\n",
       "      <td>9.732842</td>\n",
       "      <td>7.677268</td>\n",
       "      <td>8.362869</td>\n",
       "      <td>7.516885</td>\n",
       "      <td>12.711311</td>\n",
       "      <td>15.055574</td>\n",
       "    </tr>\n",
       "    <tr>\n",
       "      <td>1973-12-31</td>\n",
       "      <td>11.837123</td>\n",
       "      <td>10.692603</td>\n",
       "      <td>10.705151</td>\n",
       "      <td>5.570575</td>\n",
       "      <td>9.645671</td>\n",
       "      <td>6.563123</td>\n",
       "      <td>8.500849</td>\n",
       "      <td>7.628877</td>\n",
       "      <td>8.264027</td>\n",
       "      <td>7.825068</td>\n",
       "      <td>12.183973</td>\n",
       "      <td>15.445781</td>\n",
       "    </tr>\n",
       "    <tr>\n",
       "      <td>1974-12-31</td>\n",
       "      <td>13.628384</td>\n",
       "      <td>11.794658</td>\n",
       "      <td>12.313507</td>\n",
       "      <td>6.407973</td>\n",
       "      <td>11.092603</td>\n",
       "      <td>6.798822</td>\n",
       "      <td>10.053315</td>\n",
       "      <td>9.869808</td>\n",
       "      <td>9.303562</td>\n",
       "      <td>8.716274</td>\n",
       "      <td>13.237205</td>\n",
       "      <td>16.940356</td>\n",
       "    </tr>\n",
       "    <tr>\n",
       "      <td>1975-12-31</td>\n",
       "      <td>12.009808</td>\n",
       "      <td>10.304685</td>\n",
       "      <td>11.569616</td>\n",
       "      <td>5.285671</td>\n",
       "      <td>9.216356</td>\n",
       "      <td>5.692027</td>\n",
       "      <td>8.584986</td>\n",
       "      <td>7.876384</td>\n",
       "      <td>8.822959</td>\n",
       "      <td>7.402329</td>\n",
       "      <td>12.651288</td>\n",
       "      <td>15.304877</td>\n",
       "    </tr>\n",
       "    <tr>\n",
       "      <td>1976-12-31</td>\n",
       "      <td>11.756749</td>\n",
       "      <td>10.212678</td>\n",
       "      <td>10.772268</td>\n",
       "      <td>5.105874</td>\n",
       "      <td>8.842814</td>\n",
       "      <td>6.301721</td>\n",
       "      <td>9.146831</td>\n",
       "      <td>7.152923</td>\n",
       "      <td>8.887678</td>\n",
       "      <td>7.888443</td>\n",
       "      <td>12.346038</td>\n",
       "      <td>15.482049</td>\n",
       "    </tr>\n",
       "    <tr>\n",
       "      <td>1977-12-31</td>\n",
       "      <td>13.082027</td>\n",
       "      <td>11.147808</td>\n",
       "      <td>12.629452</td>\n",
       "      <td>6.064603</td>\n",
       "      <td>9.989425</td>\n",
       "      <td>8.578219</td>\n",
       "      <td>11.502192</td>\n",
       "      <td>8.351671</td>\n",
       "      <td>9.076849</td>\n",
       "      <td>8.808740</td>\n",
       "      <td>13.437863</td>\n",
       "      <td>16.580219</td>\n",
       "    </tr>\n",
       "    <tr>\n",
       "      <td>1978-12-31</td>\n",
       "      <td>12.490000</td>\n",
       "      <td>11.017452</td>\n",
       "      <td>11.329315</td>\n",
       "      <td>6.075479</td>\n",
       "      <td>10.163260</td>\n",
       "      <td>7.643671</td>\n",
       "      <td>9.479315</td>\n",
       "      <td>8.800219</td>\n",
       "      <td>9.091589</td>\n",
       "      <td>8.295397</td>\n",
       "      <td>12.972986</td>\n",
       "      <td>16.764438</td>\n",
       "    </tr>\n",
       "    <tr>\n",
       "      <td>1979-12-31</td>\n",
       "      <td>20.330000</td>\n",
       "      <td>17.410000</td>\n",
       "      <td>27.290000</td>\n",
       "      <td>9.590000</td>\n",
       "      <td>12.080000</td>\n",
       "      <td>10.130000</td>\n",
       "      <td>19.250000</td>\n",
       "      <td>11.630000</td>\n",
       "      <td>11.580000</td>\n",
       "      <td>11.380000</td>\n",
       "      <td>12.080000</td>\n",
       "      <td>22.080000</td>\n",
       "    </tr>\n",
       "  </tbody>\n",
       "</table>\n",
       "</div>"
      ],
      "text/plain": [
       "                  RPT        VAL        ROS       KIL        SHA        BIR  \\\n",
       "Date                                                                          \n",
       "1961-12-31  12.214484  10.214218  11.293510  6.855575  10.757729   7.629292   \n",
       "1962-12-31  12.239420  10.125856  11.656354  6.935691  10.653343   7.377818   \n",
       "1963-12-31  12.837534  10.843726  12.586493  7.343397  11.738959   8.452274   \n",
       "1964-12-31  12.356967  10.906967  12.100956  6.785519  11.447077   7.565765   \n",
       "1965-12-31  12.458795  11.090247  11.851726  6.869425  11.037699   7.492164   \n",
       "1966-12-31  13.463671  11.563836  12.026548  7.345014  11.806301   7.793425   \n",
       "1967-12-31  12.726521  10.984712  11.736082  7.135918  11.626164   7.367589   \n",
       "1968-12-31  11.856803  10.499945  11.420574  6.495656  10.786721   6.087022   \n",
       "1969-12-31  11.151863   9.691644  10.846301  5.755425   9.851890   6.163945   \n",
       "1970-12-31  12.616877  10.763808  11.779890  6.229397  10.595671   7.636630   \n",
       "1971-12-31  11.255315   9.067425  11.043151  5.225507   9.408137   6.069863   \n",
       "1972-12-31  12.466831  10.550492  12.086230  5.926175   9.443497   6.356202   \n",
       "1973-12-31  11.837123  10.692603  10.705151  5.570575   9.645671   6.563123   \n",
       "1974-12-31  13.628384  11.794658  12.313507  6.407973  11.092603   6.798822   \n",
       "1975-12-31  12.009808  10.304685  11.569616  5.285671   9.216356   5.692027   \n",
       "1976-12-31  11.756749  10.212678  10.772268  5.105874   8.842814   6.301721   \n",
       "1977-12-31  13.082027  11.147808  12.629452  6.064603   9.989425   8.578219   \n",
       "1978-12-31  12.490000  11.017452  11.329315  6.075479  10.163260   7.643671   \n",
       "1979-12-31  20.330000  17.410000  27.290000  9.590000  12.080000  10.130000   \n",
       "\n",
       "                  DUB        CLA        MUL        CLO        BEL        MAL  \n",
       "Date                                                                          \n",
       "1961-12-31   9.632065   8.701445   8.582360   9.717906  13.286991  13.584012  \n",
       "1962-12-31  10.994088   8.768674   8.294696   9.655138  12.937569  14.298011  \n",
       "1963-12-31  11.101726  10.372849   8.924932  10.231068  13.662630  15.063507  \n",
       "1964-12-31  10.254945   9.462350   7.787295  10.208852  13.728033  14.884372  \n",
       "1965-12-31  10.646767   8.889726   7.921699   9.925945  12.979753  15.610356  \n",
       "1966-12-31  10.569096   8.839890   8.504740   9.774795  14.261507  16.291616  \n",
       "1967-12-31  10.656822   9.316384   8.642740   9.542740  14.774658  17.135479  \n",
       "1968-12-31   8.872623   8.280902   7.247596   7.850055  12.840164  15.045383  \n",
       "1969-12-31   8.543260   7.688219   7.899863   7.749945  12.606274  15.749233  \n",
       "1970-12-31   9.636603   8.358932   9.325014   8.306110  13.204192  16.483973  \n",
       "1971-12-31   8.341479   6.735068   7.885233   7.201890  12.185781  14.970110  \n",
       "1972-12-31   9.732842   7.677268   8.362869   7.516885  12.711311  15.055574  \n",
       "1973-12-31   8.500849   7.628877   8.264027   7.825068  12.183973  15.445781  \n",
       "1974-12-31  10.053315   9.869808   9.303562   8.716274  13.237205  16.940356  \n",
       "1975-12-31   8.584986   7.876384   8.822959   7.402329  12.651288  15.304877  \n",
       "1976-12-31   9.146831   7.152923   8.887678   7.888443  12.346038  15.482049  \n",
       "1977-12-31  11.502192   8.351671   9.076849   8.808740  13.437863  16.580219  \n",
       "1978-12-31   9.479315   8.800219   9.091589   8.295397  12.972986  16.764438  \n",
       "1979-12-31  19.250000  11.630000  11.580000  11.380000  12.080000  22.080000  "
      ]
     },
     "execution_count": 36,
     "metadata": {},
     "output_type": "execute_result"
    }
   ],
   "source": [
    "data.resample('Y', closed = 'left').mean()"
   ]
  },
  {
   "cell_type": "markdown",
   "metadata": {},
   "source": [
    "Step 13. Downsample the record to a monthly frequency for each location."
   ]
  },
  {
   "cell_type": "code",
   "execution_count": 37,
   "metadata": {},
   "outputs": [
    {
     "data": {
      "text/html": [
       "<div>\n",
       "<style scoped>\n",
       "    .dataframe tbody tr th:only-of-type {\n",
       "        vertical-align: middle;\n",
       "    }\n",
       "\n",
       "    .dataframe tbody tr th {\n",
       "        vertical-align: top;\n",
       "    }\n",
       "\n",
       "    .dataframe thead th {\n",
       "        text-align: right;\n",
       "    }\n",
       "</style>\n",
       "<table border=\"1\" class=\"dataframe\">\n",
       "  <thead>\n",
       "    <tr style=\"text-align: right;\">\n",
       "      <th></th>\n",
       "      <th>RPT</th>\n",
       "      <th>VAL</th>\n",
       "      <th>ROS</th>\n",
       "      <th>KIL</th>\n",
       "      <th>SHA</th>\n",
       "      <th>BIR</th>\n",
       "      <th>DUB</th>\n",
       "      <th>CLA</th>\n",
       "      <th>MUL</th>\n",
       "      <th>CLO</th>\n",
       "      <th>BEL</th>\n",
       "      <th>MAL</th>\n",
       "    </tr>\n",
       "    <tr>\n",
       "      <th>Date</th>\n",
       "      <th></th>\n",
       "      <th></th>\n",
       "      <th></th>\n",
       "      <th></th>\n",
       "      <th></th>\n",
       "      <th></th>\n",
       "      <th></th>\n",
       "      <th></th>\n",
       "      <th></th>\n",
       "      <th></th>\n",
       "      <th></th>\n",
       "      <th></th>\n",
       "    </tr>\n",
       "  </thead>\n",
       "  <tbody>\n",
       "    <tr>\n",
       "      <td>1961-01-31</td>\n",
       "      <td>14.118000</td>\n",
       "      <td>10.892400</td>\n",
       "      <td>12.810400</td>\n",
       "      <td>6.635200</td>\n",
       "      <td>10.352800</td>\n",
       "      <td>8.082800</td>\n",
       "      <td>10.224000</td>\n",
       "      <td>8.689200</td>\n",
       "      <td>8.236400</td>\n",
       "      <td>9.471600</td>\n",
       "      <td>13.304000</td>\n",
       "      <td>14.358400</td>\n",
       "    </tr>\n",
       "    <tr>\n",
       "      <td>1961-02-28</td>\n",
       "      <td>16.691111</td>\n",
       "      <td>15.204444</td>\n",
       "      <td>14.552963</td>\n",
       "      <td>9.343333</td>\n",
       "      <td>13.801852</td>\n",
       "      <td>10.868889</td>\n",
       "      <td>11.979630</td>\n",
       "      <td>11.615185</td>\n",
       "      <td>11.702222</td>\n",
       "      <td>12.527778</td>\n",
       "      <td>17.952222</td>\n",
       "      <td>15.249630</td>\n",
       "    </tr>\n",
       "    <tr>\n",
       "      <td>1961-03-31</td>\n",
       "      <td>10.725385</td>\n",
       "      <td>11.215000</td>\n",
       "      <td>10.469615</td>\n",
       "      <td>7.046923</td>\n",
       "      <td>10.246923</td>\n",
       "      <td>8.543077</td>\n",
       "      <td>9.000385</td>\n",
       "      <td>9.319231</td>\n",
       "      <td>10.055769</td>\n",
       "      <td>11.083846</td>\n",
       "      <td>16.224231</td>\n",
       "      <td>15.542308</td>\n",
       "    </tr>\n",
       "    <tr>\n",
       "      <td>1961-04-30</td>\n",
       "      <td>10.632333</td>\n",
       "      <td>9.329000</td>\n",
       "      <td>9.984333</td>\n",
       "      <td>5.929333</td>\n",
       "      <td>8.479333</td>\n",
       "      <td>6.620000</td>\n",
       "      <td>7.153000</td>\n",
       "      <td>7.139333</td>\n",
       "      <td>7.485333</td>\n",
       "      <td>7.313333</td>\n",
       "      <td>11.139000</td>\n",
       "      <td>10.393667</td>\n",
       "    </tr>\n",
       "    <tr>\n",
       "      <td>1961-05-31</td>\n",
       "      <td>10.191429</td>\n",
       "      <td>8.538929</td>\n",
       "      <td>10.442500</td>\n",
       "      <td>6.017857</td>\n",
       "      <td>9.522143</td>\n",
       "      <td>6.648929</td>\n",
       "      <td>7.592500</td>\n",
       "      <td>8.169643</td>\n",
       "      <td>8.134286</td>\n",
       "      <td>8.503571</td>\n",
       "      <td>11.924286</td>\n",
       "      <td>11.844643</td>\n",
       "    </tr>\n",
       "    <tr>\n",
       "      <td>...</td>\n",
       "      <td>...</td>\n",
       "      <td>...</td>\n",
       "      <td>...</td>\n",
       "      <td>...</td>\n",
       "      <td>...</td>\n",
       "      <td>...</td>\n",
       "      <td>...</td>\n",
       "      <td>...</td>\n",
       "      <td>...</td>\n",
       "      <td>...</td>\n",
       "      <td>...</td>\n",
       "      <td>...</td>\n",
       "    </tr>\n",
       "    <tr>\n",
       "      <td>1978-09-30</td>\n",
       "      <td>10.406667</td>\n",
       "      <td>10.558667</td>\n",
       "      <td>10.330667</td>\n",
       "      <td>5.435000</td>\n",
       "      <td>10.040000</td>\n",
       "      <td>9.046333</td>\n",
       "      <td>10.522000</td>\n",
       "      <td>9.298333</td>\n",
       "      <td>9.881667</td>\n",
       "      <td>8.685000</td>\n",
       "      <td>15.436000</td>\n",
       "      <td>18.891333</td>\n",
       "    </tr>\n",
       "    <tr>\n",
       "      <td>1978-10-31</td>\n",
       "      <td>10.483871</td>\n",
       "      <td>9.036774</td>\n",
       "      <td>9.481290</td>\n",
       "      <td>5.014194</td>\n",
       "      <td>8.960645</td>\n",
       "      <td>7.110323</td>\n",
       "      <td>8.511935</td>\n",
       "      <td>7.749032</td>\n",
       "      <td>8.613548</td>\n",
       "      <td>8.600000</td>\n",
       "      <td>14.105806</td>\n",
       "      <td>17.834194</td>\n",
       "    </tr>\n",
       "    <tr>\n",
       "      <td>1978-11-30</td>\n",
       "      <td>15.926333</td>\n",
       "      <td>14.794333</td>\n",
       "      <td>13.376000</td>\n",
       "      <td>7.343667</td>\n",
       "      <td>11.459667</td>\n",
       "      <td>8.668000</td>\n",
       "      <td>11.396667</td>\n",
       "      <td>9.611333</td>\n",
       "      <td>10.658333</td>\n",
       "      <td>10.642667</td>\n",
       "      <td>17.531000</td>\n",
       "      <td>20.695333</td>\n",
       "    </tr>\n",
       "    <tr>\n",
       "      <td>1978-12-31</td>\n",
       "      <td>16.014516</td>\n",
       "      <td>13.332903</td>\n",
       "      <td>15.230645</td>\n",
       "      <td>6.898387</td>\n",
       "      <td>11.155484</td>\n",
       "      <td>9.074839</td>\n",
       "      <td>11.698387</td>\n",
       "      <td>9.897742</td>\n",
       "      <td>10.403226</td>\n",
       "      <td>10.782581</td>\n",
       "      <td>13.628710</td>\n",
       "      <td>21.030323</td>\n",
       "    </tr>\n",
       "    <tr>\n",
       "      <td>1979-01-31</td>\n",
       "      <td>20.330000</td>\n",
       "      <td>17.410000</td>\n",
       "      <td>27.290000</td>\n",
       "      <td>9.590000</td>\n",
       "      <td>12.080000</td>\n",
       "      <td>10.130000</td>\n",
       "      <td>19.250000</td>\n",
       "      <td>11.630000</td>\n",
       "      <td>11.580000</td>\n",
       "      <td>11.380000</td>\n",
       "      <td>12.080000</td>\n",
       "      <td>22.080000</td>\n",
       "    </tr>\n",
       "  </tbody>\n",
       "</table>\n",
       "<p>217 rows × 12 columns</p>\n",
       "</div>"
      ],
      "text/plain": [
       "                  RPT        VAL        ROS       KIL        SHA        BIR  \\\n",
       "Date                                                                          \n",
       "1961-01-31  14.118000  10.892400  12.810400  6.635200  10.352800   8.082800   \n",
       "1961-02-28  16.691111  15.204444  14.552963  9.343333  13.801852  10.868889   \n",
       "1961-03-31  10.725385  11.215000  10.469615  7.046923  10.246923   8.543077   \n",
       "1961-04-30  10.632333   9.329000   9.984333  5.929333   8.479333   6.620000   \n",
       "1961-05-31  10.191429   8.538929  10.442500  6.017857   9.522143   6.648929   \n",
       "...               ...        ...        ...       ...        ...        ...   \n",
       "1978-09-30  10.406667  10.558667  10.330667  5.435000  10.040000   9.046333   \n",
       "1978-10-31  10.483871   9.036774   9.481290  5.014194   8.960645   7.110323   \n",
       "1978-11-30  15.926333  14.794333  13.376000  7.343667  11.459667   8.668000   \n",
       "1978-12-31  16.014516  13.332903  15.230645  6.898387  11.155484   9.074839   \n",
       "1979-01-31  20.330000  17.410000  27.290000  9.590000  12.080000  10.130000   \n",
       "\n",
       "                  DUB        CLA        MUL        CLO        BEL        MAL  \n",
       "Date                                                                          \n",
       "1961-01-31  10.224000   8.689200   8.236400   9.471600  13.304000  14.358400  \n",
       "1961-02-28  11.979630  11.615185  11.702222  12.527778  17.952222  15.249630  \n",
       "1961-03-31   9.000385   9.319231  10.055769  11.083846  16.224231  15.542308  \n",
       "1961-04-30   7.153000   7.139333   7.485333   7.313333  11.139000  10.393667  \n",
       "1961-05-31   7.592500   8.169643   8.134286   8.503571  11.924286  11.844643  \n",
       "...               ...        ...        ...        ...        ...        ...  \n",
       "1978-09-30  10.522000   9.298333   9.881667   8.685000  15.436000  18.891333  \n",
       "1978-10-31   8.511935   7.749032   8.613548   8.600000  14.105806  17.834194  \n",
       "1978-11-30  11.396667   9.611333  10.658333  10.642667  17.531000  20.695333  \n",
       "1978-12-31  11.698387   9.897742  10.403226  10.782581  13.628710  21.030323  \n",
       "1979-01-31  19.250000  11.630000  11.580000  11.380000  12.080000  22.080000  \n",
       "\n",
       "[217 rows x 12 columns]"
      ]
     },
     "execution_count": 37,
     "metadata": {},
     "output_type": "execute_result"
    }
   ],
   "source": [
    "data.resample('M', closed = 'left').mean()"
   ]
  },
  {
   "cell_type": "markdown",
   "metadata": {},
   "source": [
    "Step 14. Downsample the record to a weekly frequency for each location"
   ]
  },
  {
   "cell_type": "code",
   "execution_count": 38,
   "metadata": {},
   "outputs": [
    {
     "data": {
      "text/html": [
       "<div>\n",
       "<style scoped>\n",
       "    .dataframe tbody tr th:only-of-type {\n",
       "        vertical-align: middle;\n",
       "    }\n",
       "\n",
       "    .dataframe tbody tr th {\n",
       "        vertical-align: top;\n",
       "    }\n",
       "\n",
       "    .dataframe thead th {\n",
       "        text-align: right;\n",
       "    }\n",
       "</style>\n",
       "<table border=\"1\" class=\"dataframe\">\n",
       "  <thead>\n",
       "    <tr style=\"text-align: right;\">\n",
       "      <th></th>\n",
       "      <th>RPT</th>\n",
       "      <th>VAL</th>\n",
       "      <th>ROS</th>\n",
       "      <th>KIL</th>\n",
       "      <th>SHA</th>\n",
       "      <th>BIR</th>\n",
       "      <th>DUB</th>\n",
       "      <th>CLA</th>\n",
       "      <th>MUL</th>\n",
       "      <th>CLO</th>\n",
       "      <th>BEL</th>\n",
       "      <th>MAL</th>\n",
       "    </tr>\n",
       "    <tr>\n",
       "      <th>Date</th>\n",
       "      <th></th>\n",
       "      <th></th>\n",
       "      <th></th>\n",
       "      <th></th>\n",
       "      <th></th>\n",
       "      <th></th>\n",
       "      <th></th>\n",
       "      <th></th>\n",
       "      <th></th>\n",
       "      <th></th>\n",
       "      <th></th>\n",
       "      <th></th>\n",
       "    </tr>\n",
       "  </thead>\n",
       "  <tbody>\n",
       "    <tr>\n",
       "      <td>1961-01-08</td>\n",
       "      <td>12.655000</td>\n",
       "      <td>10.572500</td>\n",
       "      <td>10.657500</td>\n",
       "      <td>5.595000</td>\n",
       "      <td>8.227500</td>\n",
       "      <td>5.980000</td>\n",
       "      <td>10.097500</td>\n",
       "      <td>5.510000</td>\n",
       "      <td>7.875000</td>\n",
       "      <td>7.920000</td>\n",
       "      <td>10.115000</td>\n",
       "      <td>12.417500</td>\n",
       "    </tr>\n",
       "    <tr>\n",
       "      <td>1961-01-15</td>\n",
       "      <td>12.314286</td>\n",
       "      <td>8.978571</td>\n",
       "      <td>11.368571</td>\n",
       "      <td>5.135714</td>\n",
       "      <td>7.671429</td>\n",
       "      <td>5.667143</td>\n",
       "      <td>9.220000</td>\n",
       "      <td>6.932857</td>\n",
       "      <td>6.355714</td>\n",
       "      <td>8.261429</td>\n",
       "      <td>12.422857</td>\n",
       "      <td>12.411429</td>\n",
       "    </tr>\n",
       "    <tr>\n",
       "      <td>1961-01-22</td>\n",
       "      <td>12.508333</td>\n",
       "      <td>10.131667</td>\n",
       "      <td>11.986667</td>\n",
       "      <td>4.326667</td>\n",
       "      <td>9.051667</td>\n",
       "      <td>6.543333</td>\n",
       "      <td>6.681667</td>\n",
       "      <td>7.256667</td>\n",
       "      <td>5.626667</td>\n",
       "      <td>6.381667</td>\n",
       "      <td>9.436667</td>\n",
       "      <td>9.818333</td>\n",
       "    </tr>\n",
       "    <tr>\n",
       "      <td>1961-01-29</td>\n",
       "      <td>18.410000</td>\n",
       "      <td>13.565714</td>\n",
       "      <td>16.458571</td>\n",
       "      <td>10.524286</td>\n",
       "      <td>14.974286</td>\n",
       "      <td>12.800000</td>\n",
       "      <td>13.725714</td>\n",
       "      <td>13.272857</td>\n",
       "      <td>12.320000</td>\n",
       "      <td>13.861429</td>\n",
       "      <td>18.525714</td>\n",
       "      <td>20.607143</td>\n",
       "    </tr>\n",
       "    <tr>\n",
       "      <td>1961-02-05</td>\n",
       "      <td>15.965000</td>\n",
       "      <td>15.245000</td>\n",
       "      <td>11.438333</td>\n",
       "      <td>7.683333</td>\n",
       "      <td>13.213333</td>\n",
       "      <td>8.618333</td>\n",
       "      <td>11.911667</td>\n",
       "      <td>7.383333</td>\n",
       "      <td>9.230000</td>\n",
       "      <td>8.848333</td>\n",
       "      <td>13.126667</td>\n",
       "      <td>11.480000</td>\n",
       "    </tr>\n",
       "    <tr>\n",
       "      <td>...</td>\n",
       "      <td>...</td>\n",
       "      <td>...</td>\n",
       "      <td>...</td>\n",
       "      <td>...</td>\n",
       "      <td>...</td>\n",
       "      <td>...</td>\n",
       "      <td>...</td>\n",
       "      <td>...</td>\n",
       "      <td>...</td>\n",
       "      <td>...</td>\n",
       "      <td>...</td>\n",
       "      <td>...</td>\n",
       "    </tr>\n",
       "    <tr>\n",
       "      <td>1978-12-10</td>\n",
       "      <td>20.210000</td>\n",
       "      <td>19.018571</td>\n",
       "      <td>17.207143</td>\n",
       "      <td>9.342857</td>\n",
       "      <td>15.452857</td>\n",
       "      <td>12.982857</td>\n",
       "      <td>15.044286</td>\n",
       "      <td>12.655714</td>\n",
       "      <td>13.810000</td>\n",
       "      <td>14.272857</td>\n",
       "      <td>17.851429</td>\n",
       "      <td>23.608571</td>\n",
       "    </tr>\n",
       "    <tr>\n",
       "      <td>1978-12-17</td>\n",
       "      <td>18.908571</td>\n",
       "      <td>17.454286</td>\n",
       "      <td>16.201429</td>\n",
       "      <td>8.690000</td>\n",
       "      <td>13.190000</td>\n",
       "      <td>9.052857</td>\n",
       "      <td>11.744286</td>\n",
       "      <td>9.775714</td>\n",
       "      <td>11.300000</td>\n",
       "      <td>10.494286</td>\n",
       "      <td>14.114286</td>\n",
       "      <td>17.397143</td>\n",
       "    </tr>\n",
       "    <tr>\n",
       "      <td>1978-12-24</td>\n",
       "      <td>11.327143</td>\n",
       "      <td>7.662857</td>\n",
       "      <td>12.590000</td>\n",
       "      <td>3.635714</td>\n",
       "      <td>7.532857</td>\n",
       "      <td>5.522857</td>\n",
       "      <td>6.400000</td>\n",
       "      <td>7.554286</td>\n",
       "      <td>5.788571</td>\n",
       "      <td>6.781429</td>\n",
       "      <td>10.857143</td>\n",
       "      <td>15.744286</td>\n",
       "    </tr>\n",
       "    <tr>\n",
       "      <td>1978-12-31</td>\n",
       "      <td>13.285714</td>\n",
       "      <td>10.118571</td>\n",
       "      <td>13.868571</td>\n",
       "      <td>5.821429</td>\n",
       "      <td>8.661429</td>\n",
       "      <td>8.017143</td>\n",
       "      <td>12.708571</td>\n",
       "      <td>10.137143</td>\n",
       "      <td>10.761429</td>\n",
       "      <td>11.518571</td>\n",
       "      <td>12.924286</td>\n",
       "      <td>28.220000</td>\n",
       "    </tr>\n",
       "    <tr>\n",
       "      <td>1979-01-07</td>\n",
       "      <td>20.330000</td>\n",
       "      <td>17.410000</td>\n",
       "      <td>27.290000</td>\n",
       "      <td>9.590000</td>\n",
       "      <td>12.080000</td>\n",
       "      <td>10.130000</td>\n",
       "      <td>19.250000</td>\n",
       "      <td>11.630000</td>\n",
       "      <td>11.580000</td>\n",
       "      <td>11.380000</td>\n",
       "      <td>12.080000</td>\n",
       "      <td>22.080000</td>\n",
       "    </tr>\n",
       "  </tbody>\n",
       "</table>\n",
       "<p>940 rows × 12 columns</p>\n",
       "</div>"
      ],
      "text/plain": [
       "                  RPT        VAL        ROS        KIL        SHA        BIR  \\\n",
       "Date                                                                           \n",
       "1961-01-08  12.655000  10.572500  10.657500   5.595000   8.227500   5.980000   \n",
       "1961-01-15  12.314286   8.978571  11.368571   5.135714   7.671429   5.667143   \n",
       "1961-01-22  12.508333  10.131667  11.986667   4.326667   9.051667   6.543333   \n",
       "1961-01-29  18.410000  13.565714  16.458571  10.524286  14.974286  12.800000   \n",
       "1961-02-05  15.965000  15.245000  11.438333   7.683333  13.213333   8.618333   \n",
       "...               ...        ...        ...        ...        ...        ...   \n",
       "1978-12-10  20.210000  19.018571  17.207143   9.342857  15.452857  12.982857   \n",
       "1978-12-17  18.908571  17.454286  16.201429   8.690000  13.190000   9.052857   \n",
       "1978-12-24  11.327143   7.662857  12.590000   3.635714   7.532857   5.522857   \n",
       "1978-12-31  13.285714  10.118571  13.868571   5.821429   8.661429   8.017143   \n",
       "1979-01-07  20.330000  17.410000  27.290000   9.590000  12.080000  10.130000   \n",
       "\n",
       "                  DUB        CLA        MUL        CLO        BEL        MAL  \n",
       "Date                                                                          \n",
       "1961-01-08  10.097500   5.510000   7.875000   7.920000  10.115000  12.417500  \n",
       "1961-01-15   9.220000   6.932857   6.355714   8.261429  12.422857  12.411429  \n",
       "1961-01-22   6.681667   7.256667   5.626667   6.381667   9.436667   9.818333  \n",
       "1961-01-29  13.725714  13.272857  12.320000  13.861429  18.525714  20.607143  \n",
       "1961-02-05  11.911667   7.383333   9.230000   8.848333  13.126667  11.480000  \n",
       "...               ...        ...        ...        ...        ...        ...  \n",
       "1978-12-10  15.044286  12.655714  13.810000  14.272857  17.851429  23.608571  \n",
       "1978-12-17  11.744286   9.775714  11.300000  10.494286  14.114286  17.397143  \n",
       "1978-12-24   6.400000   7.554286   5.788571   6.781429  10.857143  15.744286  \n",
       "1978-12-31  12.708571  10.137143  10.761429  11.518571  12.924286  28.220000  \n",
       "1979-01-07  19.250000  11.630000  11.580000  11.380000  12.080000  22.080000  \n",
       "\n",
       "[940 rows x 12 columns]"
      ]
     },
     "execution_count": 38,
     "metadata": {},
     "output_type": "execute_result"
    }
   ],
   "source": [
    "data.resample('W', closed = 'left').mean()"
   ]
  },
  {
   "cell_type": "markdown",
   "metadata": {},
   "source": [
    "Step 15. Calculate the min, max and mean windspeeds and standard deviations of the windspeeds across all locations for each week (assume that the first week starts on January 2 1961) for the first 52 weeks. "
   ]
  },
  {
   "cell_type": "code",
   "execution_count": 39,
   "metadata": {
    "scrolled": true
   },
   "outputs": [
    {
     "data": {
      "text/html": [
       "<div>\n",
       "<style scoped>\n",
       "    .dataframe tbody tr th:only-of-type {\n",
       "        vertical-align: middle;\n",
       "    }\n",
       "\n",
       "    .dataframe tbody tr th {\n",
       "        vertical-align: top;\n",
       "    }\n",
       "\n",
       "    .dataframe thead th {\n",
       "        text-align: right;\n",
       "    }\n",
       "</style>\n",
       "<table border=\"1\" class=\"dataframe\">\n",
       "  <thead>\n",
       "    <tr style=\"text-align: right;\">\n",
       "      <th></th>\n",
       "      <th>mean</th>\n",
       "      <th>min</th>\n",
       "      <th>max</th>\n",
       "      <th>std</th>\n",
       "    </tr>\n",
       "    <tr>\n",
       "      <th>Date</th>\n",
       "      <th></th>\n",
       "      <th></th>\n",
       "      <th></th>\n",
       "      <th></th>\n",
       "    </tr>\n",
       "  </thead>\n",
       "  <tbody>\n",
       "    <tr>\n",
       "      <td>1961-01-08</td>\n",
       "      <td>8.968542</td>\n",
       "      <td>5.510000</td>\n",
       "      <td>12.655000</td>\n",
       "      <td>2.497591</td>\n",
       "    </tr>\n",
       "    <tr>\n",
       "      <td>1961-01-15</td>\n",
       "      <td>8.895000</td>\n",
       "      <td>5.135714</td>\n",
       "      <td>12.422857</td>\n",
       "      <td>2.688046</td>\n",
       "    </tr>\n",
       "    <tr>\n",
       "      <td>1961-01-22</td>\n",
       "      <td>8.312500</td>\n",
       "      <td>4.326667</td>\n",
       "      <td>12.508333</td>\n",
       "      <td>2.562395</td>\n",
       "    </tr>\n",
       "    <tr>\n",
       "      <td>1961-01-29</td>\n",
       "      <td>14.920476</td>\n",
       "      <td>10.524286</td>\n",
       "      <td>20.607143</td>\n",
       "      <td>2.978190</td>\n",
       "    </tr>\n",
       "    <tr>\n",
       "      <td>1961-02-05</td>\n",
       "      <td>11.178611</td>\n",
       "      <td>7.383333</td>\n",
       "      <td>15.965000</td>\n",
       "      <td>2.867991</td>\n",
       "    </tr>\n",
       "    <tr>\n",
       "      <td>...</td>\n",
       "      <td>...</td>\n",
       "      <td>...</td>\n",
       "      <td>...</td>\n",
       "      <td>...</td>\n",
       "    </tr>\n",
       "    <tr>\n",
       "      <td>1978-12-10</td>\n",
       "      <td>15.954762</td>\n",
       "      <td>9.342857</td>\n",
       "      <td>23.608571</td>\n",
       "      <td>3.851605</td>\n",
       "    </tr>\n",
       "    <tr>\n",
       "      <td>1978-12-17</td>\n",
       "      <td>13.193571</td>\n",
       "      <td>8.690000</td>\n",
       "      <td>18.908571</td>\n",
       "      <td>3.573405</td>\n",
       "    </tr>\n",
       "    <tr>\n",
       "      <td>1978-12-24</td>\n",
       "      <td>8.449762</td>\n",
       "      <td>3.635714</td>\n",
       "      <td>15.744286</td>\n",
       "      <td>3.470615</td>\n",
       "    </tr>\n",
       "    <tr>\n",
       "      <td>1978-12-31</td>\n",
       "      <td>12.170238</td>\n",
       "      <td>5.821429</td>\n",
       "      <td>28.220000</td>\n",
       "      <td>5.585708</td>\n",
       "    </tr>\n",
       "    <tr>\n",
       "      <td>1979-01-07</td>\n",
       "      <td>15.402500</td>\n",
       "      <td>9.590000</td>\n",
       "      <td>27.290000</td>\n",
       "      <td>5.702483</td>\n",
       "    </tr>\n",
       "  </tbody>\n",
       "</table>\n",
       "<p>940 rows × 4 columns</p>\n",
       "</div>"
      ],
      "text/plain": [
       "                 mean        min        max       std\n",
       "Date                                                 \n",
       "1961-01-08   8.968542   5.510000  12.655000  2.497591\n",
       "1961-01-15   8.895000   5.135714  12.422857  2.688046\n",
       "1961-01-22   8.312500   4.326667  12.508333  2.562395\n",
       "1961-01-29  14.920476  10.524286  20.607143  2.978190\n",
       "1961-02-05  11.178611   7.383333  15.965000  2.867991\n",
       "...               ...        ...        ...       ...\n",
       "1978-12-10  15.954762   9.342857  23.608571  3.851605\n",
       "1978-12-17  13.193571   8.690000  18.908571  3.573405\n",
       "1978-12-24   8.449762   3.635714  15.744286  3.470615\n",
       "1978-12-31  12.170238   5.821429  28.220000  5.585708\n",
       "1979-01-07  15.402500   9.590000  27.290000  5.702483\n",
       "\n",
       "[940 rows x 4 columns]"
      ]
     },
     "execution_count": 39,
     "metadata": {},
     "output_type": "execute_result"
    }
   ],
   "source": [
    "weely_stat = pd.DataFrame()\n",
    "weely_stat['mean'] = data.resample('W', closed = 'left').mean().mean(axis = 1)\n",
    "weely_stat['min'] = data.resample('W', closed = 'left').mean().min(axis = 1)\n",
    "weely_stat['max'] = data.resample('W', closed = 'left').mean().max(axis = 1)\n",
    "weely_stat['std'] = data.resample('W', closed = 'left').mean().std(axis = 1)\n",
    "weely_stat"
   ]
  },
  {
   "cell_type": "markdown",
   "metadata": {},
   "source": [
    "# Question 5"
   ]
  },
  {
   "cell_type": "markdown",
   "metadata": {},
   "source": [
    "Step 1. Import the necessary libraries"
   ]
  },
  {
   "cell_type": "code",
   "execution_count": 40,
   "metadata": {},
   "outputs": [],
   "source": [
    "import pandas as pd"
   ]
  },
  {
   "cell_type": "markdown",
   "metadata": {},
   "source": [
    "Step 2. Import the dataset from this address. "
   ]
  },
  {
   "cell_type": "markdown",
   "metadata": {},
   "source": [
    "Step 3. Assign it to a variable called chipo."
   ]
  },
  {
   "cell_type": "code",
   "execution_count": 41,
   "metadata": {},
   "outputs": [],
   "source": [
    "chipo = pd.read_csv(\"https://raw.githubusercontent.com/justmarkham/DAT8/master/data/chipotle.tsv\", sep='\\t')"
   ]
  },
  {
   "cell_type": "markdown",
   "metadata": {},
   "source": [
    "Step 4. See the first 10 entries "
   ]
  },
  {
   "cell_type": "code",
   "execution_count": 42,
   "metadata": {
    "scrolled": true
   },
   "outputs": [
    {
     "data": {
      "text/html": [
       "<div>\n",
       "<style scoped>\n",
       "    .dataframe tbody tr th:only-of-type {\n",
       "        vertical-align: middle;\n",
       "    }\n",
       "\n",
       "    .dataframe tbody tr th {\n",
       "        vertical-align: top;\n",
       "    }\n",
       "\n",
       "    .dataframe thead th {\n",
       "        text-align: right;\n",
       "    }\n",
       "</style>\n",
       "<table border=\"1\" class=\"dataframe\">\n",
       "  <thead>\n",
       "    <tr style=\"text-align: right;\">\n",
       "      <th></th>\n",
       "      <th>order_id</th>\n",
       "      <th>quantity</th>\n",
       "      <th>item_name</th>\n",
       "      <th>choice_description</th>\n",
       "      <th>item_price</th>\n",
       "    </tr>\n",
       "  </thead>\n",
       "  <tbody>\n",
       "    <tr>\n",
       "      <td>0</td>\n",
       "      <td>1</td>\n",
       "      <td>1</td>\n",
       "      <td>Chips and Fresh Tomato Salsa</td>\n",
       "      <td>NaN</td>\n",
       "      <td>$2.39</td>\n",
       "    </tr>\n",
       "    <tr>\n",
       "      <td>1</td>\n",
       "      <td>1</td>\n",
       "      <td>1</td>\n",
       "      <td>Izze</td>\n",
       "      <td>[Clementine]</td>\n",
       "      <td>$3.39</td>\n",
       "    </tr>\n",
       "    <tr>\n",
       "      <td>2</td>\n",
       "      <td>1</td>\n",
       "      <td>1</td>\n",
       "      <td>Nantucket Nectar</td>\n",
       "      <td>[Apple]</td>\n",
       "      <td>$3.39</td>\n",
       "    </tr>\n",
       "    <tr>\n",
       "      <td>3</td>\n",
       "      <td>1</td>\n",
       "      <td>1</td>\n",
       "      <td>Chips and Tomatillo-Green Chili Salsa</td>\n",
       "      <td>NaN</td>\n",
       "      <td>$2.39</td>\n",
       "    </tr>\n",
       "    <tr>\n",
       "      <td>4</td>\n",
       "      <td>2</td>\n",
       "      <td>2</td>\n",
       "      <td>Chicken Bowl</td>\n",
       "      <td>[Tomatillo-Red Chili Salsa (Hot), [Black Beans...</td>\n",
       "      <td>$16.98</td>\n",
       "    </tr>\n",
       "    <tr>\n",
       "      <td>5</td>\n",
       "      <td>3</td>\n",
       "      <td>1</td>\n",
       "      <td>Chicken Bowl</td>\n",
       "      <td>[Fresh Tomato Salsa (Mild), [Rice, Cheese, Sou...</td>\n",
       "      <td>$10.98</td>\n",
       "    </tr>\n",
       "    <tr>\n",
       "      <td>6</td>\n",
       "      <td>3</td>\n",
       "      <td>1</td>\n",
       "      <td>Side of Chips</td>\n",
       "      <td>NaN</td>\n",
       "      <td>$1.69</td>\n",
       "    </tr>\n",
       "    <tr>\n",
       "      <td>7</td>\n",
       "      <td>4</td>\n",
       "      <td>1</td>\n",
       "      <td>Steak Burrito</td>\n",
       "      <td>[Tomatillo Red Chili Salsa, [Fajita Vegetables...</td>\n",
       "      <td>$11.75</td>\n",
       "    </tr>\n",
       "    <tr>\n",
       "      <td>8</td>\n",
       "      <td>4</td>\n",
       "      <td>1</td>\n",
       "      <td>Steak Soft Tacos</td>\n",
       "      <td>[Tomatillo Green Chili Salsa, [Pinto Beans, Ch...</td>\n",
       "      <td>$9.25</td>\n",
       "    </tr>\n",
       "    <tr>\n",
       "      <td>9</td>\n",
       "      <td>5</td>\n",
       "      <td>1</td>\n",
       "      <td>Steak Burrito</td>\n",
       "      <td>[Fresh Tomato Salsa, [Rice, Black Beans, Pinto...</td>\n",
       "      <td>$9.25</td>\n",
       "    </tr>\n",
       "  </tbody>\n",
       "</table>\n",
       "</div>"
      ],
      "text/plain": [
       "   order_id  quantity                              item_name  \\\n",
       "0         1         1           Chips and Fresh Tomato Salsa   \n",
       "1         1         1                                   Izze   \n",
       "2         1         1                       Nantucket Nectar   \n",
       "3         1         1  Chips and Tomatillo-Green Chili Salsa   \n",
       "4         2         2                           Chicken Bowl   \n",
       "5         3         1                           Chicken Bowl   \n",
       "6         3         1                          Side of Chips   \n",
       "7         4         1                          Steak Burrito   \n",
       "8         4         1                       Steak Soft Tacos   \n",
       "9         5         1                          Steak Burrito   \n",
       "\n",
       "                                  choice_description item_price  \n",
       "0                                                NaN     $2.39   \n",
       "1                                       [Clementine]     $3.39   \n",
       "2                                            [Apple]     $3.39   \n",
       "3                                                NaN     $2.39   \n",
       "4  [Tomatillo-Red Chili Salsa (Hot), [Black Beans...    $16.98   \n",
       "5  [Fresh Tomato Salsa (Mild), [Rice, Cheese, Sou...    $10.98   \n",
       "6                                                NaN     $1.69   \n",
       "7  [Tomatillo Red Chili Salsa, [Fajita Vegetables...    $11.75   \n",
       "8  [Tomatillo Green Chili Salsa, [Pinto Beans, Ch...     $9.25   \n",
       "9  [Fresh Tomato Salsa, [Rice, Black Beans, Pinto...     $9.25   "
      ]
     },
     "execution_count": 42,
     "metadata": {},
     "output_type": "execute_result"
    }
   ],
   "source": [
    "chipo.head(10)"
   ]
  },
  {
   "cell_type": "markdown",
   "metadata": {},
   "source": [
    "Step 5. What is the number of observations in the dataset?"
   ]
  },
  {
   "cell_type": "code",
   "execution_count": 43,
   "metadata": {},
   "outputs": [
    {
     "data": {
      "text/plain": [
       "4622"
      ]
     },
     "execution_count": 43,
     "metadata": {},
     "output_type": "execute_result"
    }
   ],
   "source": [
    "chipo.shape[0]"
   ]
  },
  {
   "cell_type": "markdown",
   "metadata": {},
   "source": [
    "Step 6. What is the number of columns in the dataset? "
   ]
  },
  {
   "cell_type": "code",
   "execution_count": 44,
   "metadata": {},
   "outputs": [
    {
     "data": {
      "text/plain": [
       "5"
      ]
     },
     "execution_count": 44,
     "metadata": {},
     "output_type": "execute_result"
    }
   ],
   "source": [
    "chipo.shape[1]"
   ]
  },
  {
   "cell_type": "markdown",
   "metadata": {},
   "source": [
    "Step 7. Print the name of all the columns. "
   ]
  },
  {
   "cell_type": "code",
   "execution_count": 45,
   "metadata": {},
   "outputs": [
    {
     "data": {
      "text/plain": [
       "Index(['order_id', 'quantity', 'item_name', 'choice_description',\n",
       "       'item_price'],\n",
       "      dtype='object')"
      ]
     },
     "execution_count": 45,
     "metadata": {},
     "output_type": "execute_result"
    }
   ],
   "source": [
    "chipo.columns"
   ]
  },
  {
   "cell_type": "markdown",
   "metadata": {},
   "source": [
    "Step 8. How is the dataset indexed?"
   ]
  },
  {
   "cell_type": "markdown",
   "metadata": {},
   "source": [
    "#### by each product under each order"
   ]
  },
  {
   "cell_type": "markdown",
   "metadata": {},
   "source": [
    "Step 9. Which was the most-ordered item?"
   ]
  },
  {
   "cell_type": "code",
   "execution_count": 46,
   "metadata": {},
   "outputs": [
    {
     "data": {
      "text/plain": [
       "'Chicken Bowl'"
      ]
     },
     "execution_count": 46,
     "metadata": {},
     "output_type": "execute_result"
    }
   ],
   "source": [
    "pd.DataFrame(chipo.groupby('item_name')['quantity'].sum().reset_index()).sort_values(by = 'quantity', ascending = False).iloc[0,0]"
   ]
  },
  {
   "cell_type": "markdown",
   "metadata": {},
   "source": [
    "Step 10. For the most-ordered item, how many items were ordered? "
   ]
  },
  {
   "cell_type": "code",
   "execution_count": 47,
   "metadata": {},
   "outputs": [
    {
     "data": {
      "text/plain": [
       "761"
      ]
     },
     "execution_count": 47,
     "metadata": {},
     "output_type": "execute_result"
    }
   ],
   "source": [
    "pd.DataFrame(chipo.groupby('item_name')['quantity'].sum().reset_index()).sort_values(by = 'quantity', ascending = False).iloc[0,1]"
   ]
  },
  {
   "cell_type": "markdown",
   "metadata": {},
   "source": [
    "Step 11. What was the most ordered item in the choice_description column? "
   ]
  },
  {
   "cell_type": "code",
   "execution_count": 48,
   "metadata": {},
   "outputs": [
    {
     "data": {
      "text/plain": [
       "'[Diet Coke]'"
      ]
     },
     "execution_count": 48,
     "metadata": {},
     "output_type": "execute_result"
    }
   ],
   "source": [
    "(chipo.groupby('choice_description')['quantity'].sum().reset_index()).sort_values(by = 'quantity', ascending = False).iloc[0,0]\n"
   ]
  },
  {
   "cell_type": "code",
   "execution_count": 49,
   "metadata": {},
   "outputs": [
    {
     "data": {
      "text/plain": [
       "159"
      ]
     },
     "execution_count": 49,
     "metadata": {},
     "output_type": "execute_result"
    }
   ],
   "source": [
    "(chipo.groupby('choice_description')['quantity'].sum().reset_index()).sort_values(by = 'quantity', ascending = False).iloc[0,1]"
   ]
  },
  {
   "cell_type": "markdown",
   "metadata": {},
   "source": [
    "Step 12. How many items were orderd in total? "
   ]
  },
  {
   "cell_type": "code",
   "execution_count": 50,
   "metadata": {},
   "outputs": [
    {
     "data": {
      "text/plain": [
       "4972"
      ]
     },
     "execution_count": 50,
     "metadata": {},
     "output_type": "execute_result"
    }
   ],
   "source": [
    "chipo.quantity.sum()"
   ]
  },
  {
   "cell_type": "markdown",
   "metadata": {},
   "source": [
    "Step 13. Turn the item price into a float "
   ]
  },
  {
   "cell_type": "markdown",
   "metadata": {},
   "source": [
    "• Check the item price type "
   ]
  },
  {
   "cell_type": "code",
   "execution_count": 51,
   "metadata": {},
   "outputs": [
    {
     "data": {
      "text/plain": [
       "dtype('O')"
      ]
     },
     "execution_count": 51,
     "metadata": {},
     "output_type": "execute_result"
    }
   ],
   "source": [
    "chipo.dtypes['item_price']"
   ]
  },
  {
   "cell_type": "markdown",
   "metadata": {},
   "source": [
    "• Create a lambda function and change the type of item price "
   ]
  },
  {
   "cell_type": "code",
   "execution_count": 52,
   "metadata": {},
   "outputs": [],
   "source": [
    "chipo['item_price'] = chipo.apply(lambda x: float(x['item_price'].replace('$', '')),axis=1)"
   ]
  },
  {
   "cell_type": "markdown",
   "metadata": {},
   "source": [
    "• Check the item price type"
   ]
  },
  {
   "cell_type": "code",
   "execution_count": 53,
   "metadata": {},
   "outputs": [
    {
     "data": {
      "text/plain": [
       "dtype('float64')"
      ]
     },
     "execution_count": 53,
     "metadata": {},
     "output_type": "execute_result"
    }
   ],
   "source": [
    "chipo.dtypes['item_price']"
   ]
  },
  {
   "cell_type": "markdown",
   "metadata": {},
   "source": [
    "Step 14. How much was the revenue for the period in the dataset?"
   ]
  },
  {
   "cell_type": "code",
   "execution_count": 54,
   "metadata": {},
   "outputs": [
    {
     "data": {
      "text/plain": [
       "39237.02"
      ]
     },
     "execution_count": 54,
     "metadata": {},
     "output_type": "execute_result"
    }
   ],
   "source": [
    "(chipo.item_price*chipo.quantity).sum()"
   ]
  },
  {
   "cell_type": "markdown",
   "metadata": {},
   "source": [
    "Step 15. How many orders were made in the period?"
   ]
  },
  {
   "cell_type": "code",
   "execution_count": 55,
   "metadata": {},
   "outputs": [
    {
     "data": {
      "text/plain": [
       "1834"
      ]
     },
     "execution_count": 55,
     "metadata": {},
     "output_type": "execute_result"
    }
   ],
   "source": [
    "chipo['order_id'].nunique()"
   ]
  },
  {
   "cell_type": "markdown",
   "metadata": {},
   "source": [
    "Step 16. What is the average revenue amount per order?"
   ]
  },
  {
   "cell_type": "code",
   "execution_count": 56,
   "metadata": {},
   "outputs": [
    {
     "data": {
      "text/plain": [
       "21.39423118865867"
      ]
     },
     "execution_count": 56,
     "metadata": {},
     "output_type": "execute_result"
    }
   ],
   "source": [
    "(chipo.item_price*chipo.quantity).sum()/chipo['order_id'].nunique()"
   ]
  },
  {
   "cell_type": "markdown",
   "metadata": {},
   "source": [
    "Step 17. How many different items are sold?"
   ]
  },
  {
   "cell_type": "code",
   "execution_count": 57,
   "metadata": {},
   "outputs": [
    {
     "data": {
      "text/plain": [
       "50"
      ]
     },
     "execution_count": 57,
     "metadata": {},
     "output_type": "execute_result"
    }
   ],
   "source": [
    "chipo['item_name'].nunique()"
   ]
  },
  {
   "cell_type": "markdown",
   "metadata": {},
   "source": [
    "# Question 06"
   ]
  },
  {
   "cell_type": "markdown",
   "metadata": {},
   "source": [
    "Create a line plot showing the number of marriages and divorces per capita in the U.S. between 1867 and 2014. Label both lines and show the legend. Don't forget to label your axes! "
   ]
  },
  {
   "cell_type": "code",
   "execution_count": 58,
   "metadata": {},
   "outputs": [],
   "source": [
    "us_m_d = pd.read_csv(\"C:/Users/Wimukthi/Desktop/us-marriages-divorces-1867-2014(1).csv\")"
   ]
  },
  {
   "cell_type": "code",
   "execution_count": 59,
   "metadata": {},
   "outputs": [],
   "source": [
    "import matplotlib.pyplot as plt\n",
    "%matplotlib inline"
   ]
  },
  {
   "cell_type": "code",
   "execution_count": 60,
   "metadata": {},
   "outputs": [
    {
     "data": {
      "image/png": "[encoded data removed]",
      "text/plain": [
       "<Figure size 1080x576 with 1 Axes>"
      ]
     },
     "metadata": {
      "needs_background": "light"
     },
     "output_type": "display_data"
    }
   ],
   "source": [
    "fig, ax = plt.subplots(figsize=(15,8))\n",
    "plt.plot(us_m_d.Year, us_m_d['Marriages'], label='Marriages')\n",
    "plt.plot(us_m_d.Year, us_m_d['Divorces'], label='Divorces')\n",
    "plt.title(\"number of marriages and divorces per capita in the U.S. between 1867 and 2014\")\n",
    "plt.xlabel(\"Year\")\n",
    "plt.ylabel(\"Marriages/Divorces\");\n",
    "plt.legend();"
   ]
  },
  {
   "cell_type": "markdown",
   "metadata": {},
   "source": [
    "# Question 7"
   ]
  },
  {
   "cell_type": "markdown",
   "metadata": {},
   "source": [
    "Create a vertical bar chart comparing the number of marriages and divorces per capita in the U.S. between 1900, 1950, and 2000. Don't forget to label your axes! "
   ]
  },
  {
   "cell_type": "code",
   "execution_count": 61,
   "metadata": {},
   "outputs": [],
   "source": [
    "us_m_d = us_m_d.set_index('Year')"
   ]
  },
  {
   "cell_type": "code",
   "execution_count": 62,
   "metadata": {},
   "outputs": [],
   "source": [
    "Marriages = (us_m_d.loc[1867:1900].Marriages.sum(), us_m_d.loc[1901:1950].Marriages.sum(), us_m_d.loc[1951:2000].Marriages.sum(), us_m_d.loc[2001:2014].Marriages.sum())\n",
    "Divorces = (us_m_d.loc[1867:1900].Divorces.sum(), us_m_d.loc[1901:1950].Divorces.sum(), us_m_d.loc[1951:2000].Divorces.sum(), us_m_d.loc[2001:2014].Divorces.sum())"
   ]
  },
  {
   "cell_type": "code",
   "execution_count": 63,
   "metadata": {},
   "outputs": [
    {
     "data": {
      "image/png": "[encoded data removed]",
      "text/plain": [
       "<Figure size 1080x576 with 1 Axes>"
      ]
     },
     "metadata": {
      "needs_background": "light"
     },
     "output_type": "display_data"
    }
   ],
   "source": [
    "import numpy as np\n",
    "n_groups = 4\n",
    "fig, ax = plt.subplots(figsize=(15,8))\n",
    "index = np.arange(n_groups)\n",
    "bar_width = 0.35\n",
    "opacity = 0.8\n",
    "\n",
    "rects1 = plt.bar(index, Marriages, bar_width,\n",
    "alpha=opacity,\n",
    "color='b',\n",
    "label='Marriages')\n",
    "\n",
    "rects2 = plt.bar(index + bar_width,Divorces, bar_width,\n",
    "alpha=opacity,\n",
    "color='g',\n",
    "label='Divorces')\n",
    "\n",
    "plt.xlabel('Year')\n",
    "plt.ylabel('No of Marriages/Divorces')\n",
    "plt.title('Number of marriages and divorces per capita in the U.S. between 1900, 1950, and 2000')\n",
    "plt.xticks(index + bar_width, ('1867-1900', '1901-1950', '1951-2000', '2000-2014'))\n",
    "plt.legend()\n",
    "\n",
    "plt.tight_layout()\n",
    "plt.show()"
   ]
  },
  {
   "cell_type": "markdown",
   "metadata": {},
   "source": [
    "# Question 8 "
   ]
  },
  {
   "cell_type": "markdown",
   "metadata": {},
   "source": [
    "Create a horizontal bar chart that compares the deadliest actors in Hollywood. Sort the actors by their kill count and label each bar with the corresponding actor's name. Don't forget to label your axes! "
   ]
  },
  {
   "cell_type": "code",
   "execution_count": 64,
   "metadata": {},
   "outputs": [],
   "source": [
    "actor_kill = pd.read_csv(\"C:\\\\Users\\\\Wimukthi\\\\Desktop\\\\actor_kill_counts(1).csv\")"
   ]
  },
  {
   "cell_type": "code",
   "execution_count": 65,
   "metadata": {},
   "outputs": [
    {
     "data": {
      "text/html": [
       "<div>\n",
       "<style scoped>\n",
       "    .dataframe tbody tr th:only-of-type {\n",
       "        vertical-align: middle;\n",
       "    }\n",
       "\n",
       "    .dataframe tbody tr th {\n",
       "        vertical-align: top;\n",
       "    }\n",
       "\n",
       "    .dataframe thead th {\n",
       "        text-align: right;\n",
       "    }\n",
       "</style>\n",
       "<table border=\"1\" class=\"dataframe\">\n",
       "  <thead>\n",
       "    <tr style=\"text-align: right;\">\n",
       "      <th></th>\n",
       "      <th>Actor</th>\n",
       "      <th>Count</th>\n",
       "    </tr>\n",
       "  </thead>\n",
       "  <tbody>\n",
       "    <tr>\n",
       "      <td>0</td>\n",
       "      <td>Arnold Schwarzenegger</td>\n",
       "      <td>369</td>\n",
       "    </tr>\n",
       "    <tr>\n",
       "      <td>1</td>\n",
       "      <td>Chow Yun-Fat</td>\n",
       "      <td>295</td>\n",
       "    </tr>\n",
       "    <tr>\n",
       "      <td>7</td>\n",
       "      <td>Sylvester Stallone</td>\n",
       "      <td>267</td>\n",
       "    </tr>\n",
       "    <tr>\n",
       "      <td>4</td>\n",
       "      <td>Dolph Lundgren</td>\n",
       "      <td>239</td>\n",
       "    </tr>\n",
       "    <tr>\n",
       "      <td>8</td>\n",
       "      <td>Tomisaburo Wakayama</td>\n",
       "      <td>226</td>\n",
       "    </tr>\n",
       "    <tr>\n",
       "      <td>2</td>\n",
       "      <td>Clint Eastwood</td>\n",
       "      <td>207</td>\n",
       "    </tr>\n",
       "    <tr>\n",
       "      <td>6</td>\n",
       "      <td>Nicolas Cage</td>\n",
       "      <td>204</td>\n",
       "    </tr>\n",
       "    <tr>\n",
       "      <td>5</td>\n",
       "      <td>Jet Li</td>\n",
       "      <td>201</td>\n",
       "    </tr>\n",
       "    <tr>\n",
       "      <td>3</td>\n",
       "      <td>Clive Owen</td>\n",
       "      <td>194</td>\n",
       "    </tr>\n",
       "    <tr>\n",
       "      <td>9</td>\n",
       "      <td>Wesley Snipes</td>\n",
       "      <td>193</td>\n",
       "    </tr>\n",
       "  </tbody>\n",
       "</table>\n",
       "</div>"
      ],
      "text/plain": [
       "                   Actor  Count\n",
       "0  Arnold Schwarzenegger    369\n",
       "1           Chow Yun-Fat    295\n",
       "7     Sylvester Stallone    267\n",
       "4         Dolph Lundgren    239\n",
       "8    Tomisaburo Wakayama    226\n",
       "2         Clint Eastwood    207\n",
       "6           Nicolas Cage    204\n",
       "5                 Jet Li    201\n",
       "3             Clive Owen    194\n",
       "9          Wesley Snipes    193"
      ]
     },
     "execution_count": 65,
     "metadata": {},
     "output_type": "execute_result"
    }
   ],
   "source": [
    "actor_kill = actor_kill.sort_values(by = 'Count',ascending = False)\n",
    "actor_kill"
   ]
  },
  {
   "cell_type": "code",
   "execution_count": 66,
   "metadata": {},
   "outputs": [
    {
     "data": {
      "image/png": "[encoded data removed]",
      "text/plain": [
       "<Figure size 1080x576 with 1 Axes>"
      ]
     },
     "metadata": {
      "needs_background": "light"
     },
     "output_type": "display_data"
    }
   ],
   "source": [
    "y_pos = np.arange(len(actor_kill.Actor))\n",
    "fig, ax = plt.subplots(figsize=(15,8))\n",
    "plt.barh(y_pos, actor_kill.Count, align='center', alpha=0.5)\n",
    "plt.yticks(y_pos, actor_kill.Actor)\n",
    "plt.xlabel('Count')\n",
    "plt.ylabel('Actor')\n",
    "plt.title('The deadliest actors in Hollywood')\n",
    "\n",
    "plt.show()"
   ]
  },
  {
   "cell_type": "markdown",
   "metadata": {},
   "source": [
    "# Question 9 "
   ]
  },
  {
   "cell_type": "markdown",
   "metadata": {},
   "source": [
    "Create a pie chart showing the fraction of all Roman Emperors that were assassinated. \n",
    " \n",
    "Make sure that the pie chart is an even circle, labels the categories, and shows the percentage breakdown of the categories."
   ]
  },
  {
   "cell_type": "code",
   "execution_count": 67,
   "metadata": {},
   "outputs": [],
   "source": [
    "roman_emporers = pd.read_csv(\"C:\\\\Users\\\\Wimukthi\\\\Desktop\\\\roman-emperor-reigns(1).csv\")"
   ]
  },
  {
   "cell_type": "code",
   "execution_count": 68,
   "metadata": {
    "scrolled": true
   },
   "outputs": [],
   "source": [
    "assassinated = roman_emporers[roman_emporers.Cause_of_Death == 'Assassinated']\n"
   ]
  },
  {
   "cell_type": "code",
   "execution_count": 69,
   "metadata": {},
   "outputs": [
    {
     "data": {
      "image/png": "[encoded data removed]",
      "text/plain": [
       "<Figure size 1440x1440 with 1 Axes>"
      ]
     },
     "metadata": {},
     "output_type": "display_data"
    }
   ],
   "source": [
    "labels = assassinated.Emperor\n",
    "sizes = assassinated.Length_of_Reign\n",
    "\n",
    "fig, ax = plt.subplots(figsize=(20,20))\n",
    "plt.pie(sizes, labels=labels, autopct='%1.1f%%', startangle=0, textprops={'fontsize': 30})\n",
    "plt.axis('equal')\n",
    "plt.show()"
   ]
  },
  {
   "cell_type": "markdown",
   "metadata": {},
   "source": [
    "# Question 10 "
   ]
  },
  {
   "cell_type": "markdown",
   "metadata": {},
   "source": [
    "Create a scatter plot showing the relationship between the total revenue earned by arcades and the number of Computer Science PhDs awarded in the U.S. between 2000 and 2009. \n",
    " \n",
    "Don't forget to label your axes! \n",
    " \n",
    "Color each dot according to its year. "
   ]
  },
  {
   "cell_type": "code",
   "execution_count": 70,
   "metadata": {},
   "outputs": [],
   "source": [
    "arcade_revenue = pd.read_csv(\"C:\\\\Users\\\\Wimukthi\\\\Desktop\\\\arcade-revenue-vs-cs-doctorates(1).csv\")"
   ]
  },
  {
   "cell_type": "code",
   "execution_count": 71,
   "metadata": {},
   "outputs": [
    {
     "data": {
      "image/png": "[encoded data removed]",
      "text/plain": [
       "<Figure size 576x576 with 1 Axes>"
      ]
     },
     "metadata": {
      "needs_background": "light"
     },
     "output_type": "display_data"
    }
   ],
   "source": [
    "x = arcade_revenue[\"Total Arcade Revenue (billions)\"]\n",
    "y = arcade_revenue[\"Computer Science Doctorates Awarded (US)\"]\n",
    "year = arcade_revenue.Year\n",
    "colours = ['black','brown','red','gold','green','lime','aqua','teal','navy','purple']\n",
    "\n",
    "\n",
    "fig, ax = plt.subplots(figsize=(8,8))\n",
    "scatter = plt.scatter(x, y, alpha=0.5, label=year, c = colours, s =300)\n",
    "for i, txt in enumerate(year):\n",
    "    ax.annotate(txt, (x[i], y[i]))\n",
    "\n",
    "plt.title(' The relationship between the total revenue earned by arcades and the number of Computer Science PhDs awarded in the U.S. between 2000 and 2009')\n",
    "plt.xlabel('Total Arcade Revenue (billions)')\n",
    "plt.ylabel('Computer Science Doctorates Awarded (US)')\n",
    "\n",
    "plt.show()"
   ]
  }
 ],
 "metadata": {
  "kernelspec": {
   "display_name": "Python 3",
   "language": "python",
   "name": "python3"
  },
  "language_info": {
   "codemirror_mode": {
    "name": "ipython",
    "version": 3
   },
   "file_extension": ".py",
   "mimetype": "text/x-python",
   "name": "python",
   "nbconvert_exporter": "python",
   "pygments_lexer": "ipython3",
   "version": "3.7.6"
  }
 },
 "nbformat": 4,
 "nbformat_minor": 2
}
